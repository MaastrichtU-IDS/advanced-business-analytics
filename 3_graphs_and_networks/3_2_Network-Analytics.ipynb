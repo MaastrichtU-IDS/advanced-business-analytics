{
 "cells": [
  {
   "cell_type": "markdown",
   "metadata": {
    "slideshow": {
     "slide_type": "slide"
    }
   },
   "source": [
    "# Network Analytics"
   ]
  },
  {
   "cell_type": "markdown",
   "metadata": {
    "slideshow": {
     "slide_type": "slide"
    }
   },
   "source": [
    "## Networkx\n",
    "* [Netwokx](https://networkx.github.io/documentation/networkx-1.9/index.html) is a Python language software package for the creation, manipulation, and study of the structure, dynamics, and function of complex networks.\n",
    "* Uses the different methods to manipulate a graph\n",
    "* Uses methods of centrality from graph theory\n",
    "* Allows to create basic network plots"
   ]
  },
  {
   "cell_type": "code",
   "execution_count": 1,
   "metadata": {
    "slideshow": {
     "slide_type": "fragment"
    }
   },
   "outputs": [],
   "source": [
    "import networkx as nx\n",
    "import pandas as pd\n",
    "import matplotlib.pyplot as plt"
   ]
  },
  {
   "cell_type": "markdown",
   "metadata": {
    "slideshow": {
     "slide_type": "slide"
    }
   },
   "source": [
    "## Graph Essentials"
   ]
  },
  {
   "cell_type": "code",
   "execution_count": 2,
   "metadata": {
    "slideshow": {
     "slide_type": "subslide"
    }
   },
   "outputs": [],
   "source": [
    "g = nx.Graph()"
   ]
  },
  {
   "cell_type": "markdown",
   "metadata": {
    "slideshow": {
     "slide_type": "fragment"
    }
   },
   "source": [
    "One node at a time"
   ]
  },
  {
   "cell_type": "code",
   "execution_count": 3,
   "metadata": {
    "slideshow": {
     "slide_type": "fragment"
    }
   },
   "outputs": [],
   "source": [
    "g.add_node(1)"
   ]
  },
  {
   "cell_type": "markdown",
   "metadata": {
    "slideshow": {
     "slide_type": "fragment"
    }
   },
   "source": [
    "A list of nodes"
   ]
  },
  {
   "cell_type": "code",
   "execution_count": 4,
   "metadata": {
    "slideshow": {
     "slide_type": "fragment"
    }
   },
   "outputs": [],
   "source": [
    "g.add_nodes_from([2 ,3])"
   ]
  },
  {
   "cell_type": "markdown",
   "metadata": {
    "slideshow": {
     "slide_type": "subslide"
    }
   },
   "source": [
    "A container of nodes"
   ]
  },
  {
   "cell_type": "code",
   "execution_count": 5,
   "metadata": {
    "slideshow": {
     "slide_type": "fragment"
    }
   },
   "outputs": [],
   "source": [
    "h = nx.path_graph(10)\n",
    "g.add_nodes_from(h)"
   ]
  },
  {
   "cell_type": "code",
   "execution_count": 6,
   "metadata": {
    "slideshow": {
     "slide_type": "fragment"
    }
   },
   "outputs": [
    {
     "data": {
      "text/plain": [
       "NodeView((1, 2, 3, 0, 4, 5, 6, 7, 8, 9))"
      ]
     },
     "execution_count": 6,
     "metadata": {},
     "output_type": "execute_result"
    }
   ],
   "source": [
    "g.nodes()"
   ]
  },
  {
   "cell_type": "markdown",
   "metadata": {
    "slideshow": {
     "slide_type": "subslide"
    }
   },
   "source": [
    "Remove node of the graph"
   ]
  },
  {
   "cell_type": "code",
   "execution_count": 7,
   "metadata": {
    "slideshow": {
     "slide_type": "fragment"
    }
   },
   "outputs": [],
   "source": [
    "g.remove_node(0)"
   ]
  },
  {
   "cell_type": "markdown",
   "metadata": {
    "slideshow": {
     "slide_type": "fragment"
    }
   },
   "source": [
    "Single edge"
   ]
  },
  {
   "cell_type": "code",
   "execution_count": 8,
   "metadata": {
    "slideshow": {
     "slide_type": "fragment"
    }
   },
   "outputs": [],
   "source": [
    "g.add_edge(1,2)"
   ]
  },
  {
   "cell_type": "markdown",
   "metadata": {
    "slideshow": {
     "slide_type": "subslide"
    }
   },
   "source": [
    "List of edges"
   ]
  },
  {
   "cell_type": "code",
   "execution_count": 9,
   "metadata": {
    "slideshow": {
     "slide_type": "fragment"
    }
   },
   "outputs": [],
   "source": [
    "g.add_edges_from([(1 ,2) ,(1 ,3)])"
   ]
  },
  {
   "cell_type": "markdown",
   "metadata": {
    "slideshow": {
     "slide_type": "fragment"
    }
   },
   "source": [
    "Container of edges"
   ]
  },
  {
   "cell_type": "code",
   "execution_count": 10,
   "metadata": {
    "slideshow": {
     "slide_type": "fragment"
    }
   },
   "outputs": [],
   "source": [
    "g.add_edges_from(h.edges())"
   ]
  },
  {
   "cell_type": "code",
   "execution_count": 11,
   "metadata": {
    "slideshow": {
     "slide_type": "subslide"
    }
   },
   "outputs": [
    {
     "data": {
      "text/plain": [
       "EdgeView([(1, 2), (1, 3), (1, 0), (2, 3), (3, 4), (4, 5), (5, 6), (6, 7), (7, 8), (8, 9)])"
      ]
     },
     "execution_count": 11,
     "metadata": {},
     "output_type": "execute_result"
    }
   ],
   "source": [
    "g.edges()"
   ]
  },
  {
   "cell_type": "markdown",
   "metadata": {
    "slideshow": {
     "slide_type": "fragment"
    }
   },
   "source": [
    "Remove edge of the graph"
   ]
  },
  {
   "cell_type": "code",
   "execution_count": 12,
   "metadata": {
    "slideshow": {
     "slide_type": "fragment"
    }
   },
   "outputs": [],
   "source": [
    "g.remove_edge(1,2)"
   ]
  },
  {
   "cell_type": "code",
   "execution_count": 11,
   "metadata": {
    "slideshow": {
     "slide_type": "subslide"
    }
   },
   "outputs": [
    {
     "data": {
      "text/plain": [
       "EdgeView([(1, 2), (1, 3), (1, 0), (2, 3), (3, 4), (4, 5), (5, 6), (6, 7), (7, 8), (8, 9)])"
      ]
     },
     "execution_count": 11,
     "metadata": {},
     "output_type": "execute_result"
    }
   ],
   "source": [
    "g.edges()"
   ]
  },
  {
   "cell_type": "markdown",
   "metadata": {
    "slideshow": {
     "slide_type": "slide"
    }
   },
   "source": [
    "NetworkX is not primarily a graph drawing package but it provides basic drawing\n",
    "capabilities by using matplotlib. "
   ]
  },
  {
   "cell_type": "code",
   "execution_count": 56,
   "metadata": {
    "slideshow": {
     "slide_type": "fragment"
    }
   },
   "outputs": [
    {
     "data": {
      "image/png": "[encoded data removed]",
      "text/plain": [
       "<Figure size 432x288 with 1 Axes>"
      ]
     },
     "metadata": {},
     "output_type": "display_data"
    }
   ],
   "source": [
    "nx.draw(g, with_labels=True)"
   ]
  },
  {
   "cell_type": "markdown",
   "metadata": {
    "slideshow": {
     "slide_type": "subslide"
    }
   },
   "source": [
    "Precomputed Functions"
   ]
  },
  {
   "cell_type": "code",
   "execution_count": 14,
   "metadata": {
    "slideshow": {
     "slide_type": "fragment"
    }
   },
   "outputs": [],
   "source": [
    "shortest = nx.shortest_path(g)"
   ]
  },
  {
   "cell_type": "code",
   "execution_count": 15,
   "metadata": {
    "slideshow": {
     "slide_type": "fragment"
    }
   },
   "outputs": [
    {
     "data": {
      "text/plain": [
       "[2, 3, 1, 0]"
      ]
     },
     "execution_count": 15,
     "metadata": {},
     "output_type": "execute_result"
    }
   ],
   "source": [
    "shortest[2][0]"
   ]
  },
  {
   "cell_type": "code",
   "execution_count": 16,
   "metadata": {
    "slideshow": {
     "slide_type": "subslide"
    }
   },
   "outputs": [
    {
     "data": {
      "text/plain": [
       "10"
      ]
     },
     "execution_count": 16,
     "metadata": {},
     "output_type": "execute_result"
    }
   ],
   "source": [
    "g.number_of_nodes() # also g.order()"
   ]
  },
  {
   "cell_type": "code",
   "execution_count": 17,
   "metadata": {
    "slideshow": {
     "slide_type": "fragment"
    }
   },
   "outputs": [
    {
     "data": {
      "text/plain": [
       "9"
      ]
     },
     "execution_count": 17,
     "metadata": {},
     "output_type": "execute_result"
    }
   ],
   "source": [
    "g.number_of_edges() # also g.size()"
   ]
  },
  {
   "cell_type": "code",
   "execution_count": 18,
   "metadata": {
    "slideshow": {
     "slide_type": "fragment"
    }
   },
   "outputs": [
    {
     "data": {
      "text/plain": [
       "3"
      ]
     },
     "execution_count": 18,
     "metadata": {},
     "output_type": "execute_result"
    }
   ],
   "source": [
    "g.degree(3)"
   ]
  },
  {
   "cell_type": "code",
   "execution_count": 19,
   "metadata": {
    "slideshow": {
     "slide_type": "fragment"
    }
   },
   "outputs": [
    {
     "data": {
      "text/plain": [
       "[1, 2, 4]"
      ]
     },
     "execution_count": 19,
     "metadata": {},
     "output_type": "execute_result"
    }
   ],
   "source": [
    "[n for n in g.neighbors(3)]"
   ]
  },
  {
   "cell_type": "markdown",
   "metadata": {
    "slideshow": {
     "slide_type": "subslide"
    }
   },
   "source": [
    "Any NetworkX graph behaves like a Python dictionary with nodes as primary keys (only for access!)"
   ]
  },
  {
   "cell_type": "code",
   "execution_count": 20,
   "metadata": {
    "slideshow": {
     "slide_type": "fragment"
    }
   },
   "outputs": [
    {
     "data": {
      "text/plain": [
       "'5pm'"
      ]
     },
     "execution_count": 20,
     "metadata": {},
     "output_type": "execute_result"
    }
   ],
   "source": [
    "g.add_node(0, time='5pm')\n",
    "g.node[0]['time']"
   ]
  },
  {
   "cell_type": "markdown",
   "metadata": {
    "slideshow": {
     "slide_type": "subslide"
    }
   },
   "source": [
    "The special edge attribute ’weight’ should always be numeric and holds values used by\n",
    "algorithms requiring weighted edges. "
   ]
  },
  {
   "cell_type": "code",
   "execution_count": 21,
   "metadata": {
    "slideshow": {
     "slide_type": "fragment"
    }
   },
   "outputs": [],
   "source": [
    "g.add_edge(1, 2, weight=4.0)"
   ]
  },
  {
   "cell_type": "code",
   "execution_count": 22,
   "metadata": {
    "slideshow": {
     "slide_type": "fragment"
    }
   },
   "outputs": [
    {
     "data": {
      "text/plain": [
       "{'weight': 4.0}"
      ]
     },
     "execution_count": 22,
     "metadata": {},
     "output_type": "execute_result"
    }
   ],
   "source": [
    "g[1][2]"
   ]
  },
  {
   "cell_type": "markdown",
   "metadata": {
    "slideshow": {
     "slide_type": "subslide"
    }
   },
   "source": [
    "Many applications require iteration over nodes or over edges: simple and easy in\n",
    "NetworkX"
   ]
  },
  {
   "cell_type": "code",
   "execution_count": 23,
   "metadata": {
    "slideshow": {
     "slide_type": "fragment"
    }
   },
   "outputs": [
    {
     "name": "stdout",
     "output_type": "stream",
     "text": [
      "1 3\n",
      "2 2\n",
      "3 3\n",
      "4 2\n",
      "5 2\n",
      "6 2\n",
      "7 2\n",
      "8 2\n",
      "9 1\n",
      "0 1\n"
     ]
    }
   ],
   "source": [
    "for node in g.nodes():\n",
    "    print (node, g.degree(node))"
   ]
  },
  {
   "cell_type": "code",
   "execution_count": 24,
   "metadata": {
    "slideshow": {
     "slide_type": "fragment"
    }
   },
   "outputs": [
    {
     "name": "stdout",
     "output_type": "stream",
     "text": [
      "(1, 3, {})\n",
      "(1, 0, {})\n",
      "(1, 2, {'weight': 4.0})\n",
      "(2, 3, {})\n",
      "(3, 4, {})\n",
      "(4, 5, {})\n",
      "(5, 6, {})\n",
      "(6, 7, {})\n",
      "(7, 8, {})\n",
      "(8, 9, {})\n"
     ]
    }
   ],
   "source": [
    "for edge in g.edges(data=True):\n",
    "    print (edge)"
   ]
  },
  {
   "cell_type": "markdown",
   "metadata": {
    "slideshow": {
     "slide_type": "slide"
    }
   },
   "source": [
    "### Diricted Graphs"
   ]
  },
  {
   "cell_type": "code",
   "execution_count": 25,
   "metadata": {
    "slideshow": {
     "slide_type": "fragment"
    }
   },
   "outputs": [],
   "source": [
    "dg = nx.DiGraph()\n",
    "dg.add_weighted_edges_from([(1,4,0.5), (3,1,0.75)])"
   ]
  },
  {
   "cell_type": "code",
   "execution_count": 26,
   "metadata": {
    "slideshow": {
     "slide_type": "fragment"
    }
   },
   "outputs": [
    {
     "data": {
      "image/png": "[encoded data removed]",
      "text/plain": [
       "<Figure size 432x288 with 1 Axes>"
      ]
     },
     "metadata": {},
     "output_type": "display_data"
    }
   ],
   "source": [
    "nx.draw(dg)"
   ]
  },
  {
   "cell_type": "markdown",
   "metadata": {
    "slideshow": {
     "slide_type": "fragment"
    }
   },
   "source": [
    "Some algorithms work only for undirected graphs and others are not well defined for directed graphs.   \n",
    "To treat a directed graph as undirected for some we should convert it using Graph.to_undirected()"
   ]
  },
  {
   "cell_type": "markdown",
   "metadata": {
    "slideshow": {
     "slide_type": "slide"
    }
   },
   "source": [
    "## Retrieving a dataset"
   ]
  },
  {
   "cell_type": "code",
   "execution_count": 27,
   "metadata": {
    "slideshow": {
     "slide_type": "fragment"
    }
   },
   "outputs": [],
   "source": [
    "g = nx.florentine_families_graph() #small graph"
   ]
  },
  {
   "cell_type": "code",
   "execution_count": 28,
   "metadata": {
    "slideshow": {
     "slide_type": "fragment"
    }
   },
   "outputs": [],
   "source": [
    "nodes, edges = g.order(), g.size()"
   ]
  },
  {
   "cell_type": "code",
   "execution_count": 29,
   "metadata": {
    "slideshow": {
     "slide_type": "fragment"
    }
   },
   "outputs": [],
   "source": [
    "avg_deg = float(nodes)/edges"
   ]
  },
  {
   "cell_type": "code",
   "execution_count": 30,
   "metadata": {
    "scrolled": true,
    "slideshow": {
     "slide_type": "fragment"
    }
   },
   "outputs": [
    {
     "name": "stdout",
     "output_type": "stream",
     "text": [
      "Nodes: 15\n",
      "Edges: 20\n",
      "Avg Degree: 0.75\n"
     ]
    }
   ],
   "source": [
    "print ('Nodes: {}\\nEdges: {}\\nAvg Degree: {}'.format(nodes, edges, avg_deg) )"
   ]
  },
  {
   "cell_type": "code",
   "execution_count": 31,
   "metadata": {
    "slideshow": {
     "slide_type": "subslide"
    }
   },
   "outputs": [
    {
     "name": "stdout",
     "output_type": "stream",
     "text": [
      "('Acciaiuoli', 'Medici', {})\n",
      "('Medici', 'Barbadori', {})\n",
      "('Medici', 'Ridolfi', {})\n",
      "('Medici', 'Tornabuoni', {})\n",
      "('Medici', 'Albizzi', {})\n",
      "('Medici', 'Salviati', {})\n",
      "('Castellani', 'Peruzzi', {})\n",
      "('Castellani', 'Strozzi', {})\n",
      "('Castellani', 'Barbadori', {})\n",
      "('Peruzzi', 'Strozzi', {})\n",
      "('Peruzzi', 'Bischeri', {})\n",
      "('Strozzi', 'Ridolfi', {})\n",
      "('Strozzi', 'Bischeri', {})\n",
      "('Ridolfi', 'Tornabuoni', {})\n",
      "('Tornabuoni', 'Guadagni', {})\n",
      "('Albizzi', 'Ginori', {})\n",
      "('Albizzi', 'Guadagni', {})\n",
      "('Salviati', 'Pazzi', {})\n",
      "('Bischeri', 'Guadagni', {})\n",
      "('Guadagni', 'Lamberteschi', {})\n"
     ]
    }
   ],
   "source": [
    "for edge in g.edges(data=True):\n",
    "    print (edge)"
   ]
  },
  {
   "cell_type": "markdown",
   "metadata": {
    "slideshow": {
     "slide_type": "slide"
    }
   },
   "source": [
    "## Centrality Measures"
   ]
  },
  {
   "cell_type": "code",
   "execution_count": 32,
   "metadata": {
    "slideshow": {
     "slide_type": "fragment"
    }
   },
   "outputs": [],
   "source": [
    "def centrality_summary(centrality_output):\n",
    "    stats = pd.DataFrame([i for i in centrality_output.values()]).describe()\n",
    "    return stats"
   ]
  },
  {
   "cell_type": "markdown",
   "metadata": {
    "slideshow": {
     "slide_type": "subslide"
    }
   },
   "source": [
    "**Degree centrality**  \n",
    "For particular node is the fraction of nodes it is connected to."
   ]
  },
  {
   "cell_type": "code",
   "execution_count": 33,
   "metadata": {
    "slideshow": {
     "slide_type": "fragment"
    }
   },
   "outputs": [],
   "source": [
    "degree = nx.degree_centrality(g)"
   ]
  },
  {
   "cell_type": "code",
   "execution_count": 34,
   "metadata": {
    "slideshow": {
     "slide_type": "fragment"
    }
   },
   "outputs": [
    {
     "data": {
      "text/plain": [
       "{'Acciaiuoli': 0.07142857142857142,\n",
       " 'Medici': 0.42857142857142855,\n",
       " 'Castellani': 0.21428571428571427,\n",
       " 'Peruzzi': 0.21428571428571427,\n",
       " 'Strozzi': 0.2857142857142857,\n",
       " 'Barbadori': 0.14285714285714285,\n",
       " 'Ridolfi': 0.21428571428571427,\n",
       " 'Tornabuoni': 0.21428571428571427,\n",
       " 'Albizzi': 0.21428571428571427,\n",
       " 'Salviati': 0.14285714285714285,\n",
       " 'Pazzi': 0.07142857142857142,\n",
       " 'Bischeri': 0.21428571428571427,\n",
       " 'Guadagni': 0.2857142857142857,\n",
       " 'Ginori': 0.07142857142857142,\n",
       " 'Lamberteschi': 0.07142857142857142}"
      ]
     },
     "execution_count": 34,
     "metadata": {},
     "output_type": "execute_result"
    }
   ],
   "source": [
    "degree"
   ]
  },
  {
   "cell_type": "code",
   "execution_count": 35,
   "metadata": {
    "slideshow": {
     "slide_type": "subslide"
    }
   },
   "outputs": [
    {
     "data": {
      "text/html": [
       "<div>\n",
       "<style scoped>\n",
       "    .dataframe tbody tr th:only-of-type {\n",
       "        vertical-align: middle;\n",
       "    }\n",
       "\n",
       "    .dataframe tbody tr th {\n",
       "        vertical-align: top;\n",
       "    }\n",
       "\n",
       "    .dataframe thead th {\n",
       "        text-align: right;\n",
       "    }\n",
       "</style>\n",
       "<table border=\"1\" class=\"dataframe\">\n",
       "  <thead>\n",
       "    <tr style=\"text-align: right;\">\n",
       "      <th></th>\n",
       "      <th>0</th>\n",
       "    </tr>\n",
       "  </thead>\n",
       "  <tbody>\n",
       "    <tr>\n",
       "      <th>count</th>\n",
       "      <td>15.000000</td>\n",
       "    </tr>\n",
       "    <tr>\n",
       "      <th>mean</th>\n",
       "      <td>0.190476</td>\n",
       "    </tr>\n",
       "    <tr>\n",
       "      <th>std</th>\n",
       "      <td>0.099805</td>\n",
       "    </tr>\n",
       "    <tr>\n",
       "      <th>min</th>\n",
       "      <td>0.071429</td>\n",
       "    </tr>\n",
       "    <tr>\n",
       "      <th>25%</th>\n",
       "      <td>0.107143</td>\n",
       "    </tr>\n",
       "    <tr>\n",
       "      <th>50%</th>\n",
       "      <td>0.214286</td>\n",
       "    </tr>\n",
       "    <tr>\n",
       "      <th>75%</th>\n",
       "      <td>0.214286</td>\n",
       "    </tr>\n",
       "    <tr>\n",
       "      <th>max</th>\n",
       "      <td>0.428571</td>\n",
       "    </tr>\n",
       "  </tbody>\n",
       "</table>\n",
       "</div>"
      ],
      "text/plain": [
       "               0\n",
       "count  15.000000\n",
       "mean    0.190476\n",
       "std     0.099805\n",
       "min     0.071429\n",
       "25%     0.107143\n",
       "50%     0.214286\n",
       "75%     0.214286\n",
       "max     0.428571"
      ]
     },
     "execution_count": 35,
     "metadata": {},
     "output_type": "execute_result"
    }
   ],
   "source": [
    "centrality_summary(degree)"
   ]
  },
  {
   "cell_type": "markdown",
   "metadata": {
    "slideshow": {
     "slide_type": "subslide"
    }
   },
   "source": [
    "**Closeness centrality**   \n",
    "Notice that higher values of closeness indicate higher centrality."
   ]
  },
  {
   "cell_type": "markdown",
   "metadata": {
    "slideshow": {
     "slide_type": "skip"
    }
   },
   "source": [
    "For a particular node $u$ is the reciprocal of the sum of the shortest path distances from $u$ to all $n-1$ other nodes. Since the sum of distances depends on the number of nodes in the graph, closeness is normalized by the sum of minimum possible distances $n-1$.  \n",
    "\n",
    "$C(u) = \\frac{n - 1}{\\sum_{v=1}^{n-1} d(v, u)}$  \n",
    "where $d(v, u)$ is the shortest-path distance between $v$ and $u$, and $n$ is the number of nodes in the graph.  "
   ]
  },
  {
   "cell_type": "code",
   "execution_count": 36,
   "metadata": {
    "slideshow": {
     "slide_type": "fragment"
    }
   },
   "outputs": [],
   "source": [
    "closeness = nx.closeness_centrality(g)"
   ]
  },
  {
   "cell_type": "code",
   "execution_count": 37,
   "metadata": {
    "slideshow": {
     "slide_type": "fragment"
    }
   },
   "outputs": [
    {
     "data": {
      "text/plain": [
       "{'Acciaiuoli': 0.3684210526315789,\n",
       " 'Medici': 0.56,\n",
       " 'Castellani': 0.3888888888888889,\n",
       " 'Peruzzi': 0.3684210526315789,\n",
       " 'Strozzi': 0.4375,\n",
       " 'Barbadori': 0.4375,\n",
       " 'Ridolfi': 0.5,\n",
       " 'Tornabuoni': 0.4827586206896552,\n",
       " 'Albizzi': 0.4827586206896552,\n",
       " 'Salviati': 0.3888888888888889,\n",
       " 'Pazzi': 0.2857142857142857,\n",
       " 'Bischeri': 0.4,\n",
       " 'Guadagni': 0.4666666666666667,\n",
       " 'Ginori': 0.3333333333333333,\n",
       " 'Lamberteschi': 0.32558139534883723}"
      ]
     },
     "execution_count": 37,
     "metadata": {},
     "output_type": "execute_result"
    }
   ],
   "source": [
    "closeness"
   ]
  },
  {
   "cell_type": "code",
   "execution_count": 38,
   "metadata": {
    "slideshow": {
     "slide_type": "subslide"
    }
   },
   "outputs": [
    {
     "data": {
      "text/html": [
       "<div>\n",
       "<style scoped>\n",
       "    .dataframe tbody tr th:only-of-type {\n",
       "        vertical-align: middle;\n",
       "    }\n",
       "\n",
       "    .dataframe tbody tr th {\n",
       "        vertical-align: top;\n",
       "    }\n",
       "\n",
       "    .dataframe thead th {\n",
       "        text-align: right;\n",
       "    }\n",
       "</style>\n",
       "<table border=\"1\" class=\"dataframe\">\n",
       "  <thead>\n",
       "    <tr style=\"text-align: right;\">\n",
       "      <th></th>\n",
       "      <th>0</th>\n",
       "    </tr>\n",
       "  </thead>\n",
       "  <tbody>\n",
       "    <tr>\n",
       "      <th>count</th>\n",
       "      <td>15.000000</td>\n",
       "    </tr>\n",
       "    <tr>\n",
       "      <th>mean</th>\n",
       "      <td>0.415096</td>\n",
       "    </tr>\n",
       "    <tr>\n",
       "      <th>std</th>\n",
       "      <td>0.074844</td>\n",
       "    </tr>\n",
       "    <tr>\n",
       "      <th>min</th>\n",
       "      <td>0.285714</td>\n",
       "    </tr>\n",
       "    <tr>\n",
       "      <th>25%</th>\n",
       "      <td>0.368421</td>\n",
       "    </tr>\n",
       "    <tr>\n",
       "      <th>50%</th>\n",
       "      <td>0.400000</td>\n",
       "    </tr>\n",
       "    <tr>\n",
       "      <th>75%</th>\n",
       "      <td>0.474713</td>\n",
       "    </tr>\n",
       "    <tr>\n",
       "      <th>max</th>\n",
       "      <td>0.560000</td>\n",
       "    </tr>\n",
       "  </tbody>\n",
       "</table>\n",
       "</div>"
      ],
      "text/plain": [
       "               0\n",
       "count  15.000000\n",
       "mean    0.415096\n",
       "std     0.074844\n",
       "min     0.285714\n",
       "25%     0.368421\n",
       "50%     0.400000\n",
       "75%     0.474713\n",
       "max     0.560000"
      ]
     },
     "execution_count": 38,
     "metadata": {},
     "output_type": "execute_result"
    }
   ],
   "source": [
    "centrality_summary(closeness)"
   ]
  },
  {
   "cell_type": "markdown",
   "metadata": {
    "slideshow": {
     "slide_type": "subslide"
    }
   },
   "source": [
    "**Betweenness centrality**   \n",
    "It helps to detect influential nodes  "
   ]
  },
  {
   "cell_type": "markdown",
   "metadata": {
    "slideshow": {
     "slide_type": "skip"
    }
   },
   "source": [
    "For a particular node $v$ is the sum of the fraction of all-pairs shortest paths that pass through $v$:  \n",
    "\n",
    "$c_B(v) =\\sum_{s,t \\in V} \\frac{\\sigma(s, t|v)}{\\sigma(s, t)}$  \n",
    "where $V$ is the set of nodes, $\\sigma(s, t)$ is the number of shortest $(s, t)$-paths, and $\\sigma(s, t|v)$ is the number of those paths passing through some node $v$ other than $(s, t)$. If $(s = t)$, $(\\sigma(s, t) = 1)$, and if $(v \\in {s, t})$, $(\\sigma(s, t|v) = 0)$   "
   ]
  },
  {
   "cell_type": "code",
   "execution_count": 39,
   "metadata": {
    "slideshow": {
     "slide_type": "fragment"
    }
   },
   "outputs": [],
   "source": [
    "betweenness = nx.betweenness_centrality(g)"
   ]
  },
  {
   "cell_type": "code",
   "execution_count": 53,
   "metadata": {},
   "outputs": [
    {
     "data": {
      "text/plain": [
       "{'Acciaiuoli': 0.0,\n",
       " 'Medici': 0.521978021978022,\n",
       " 'Castellani': 0.05494505494505495,\n",
       " 'Peruzzi': 0.02197802197802198,\n",
       " 'Strozzi': 0.10256410256410257,\n",
       " 'Barbadori': 0.09340659340659341,\n",
       " 'Ridolfi': 0.11355311355311355,\n",
       " 'Tornabuoni': 0.09157509157509157,\n",
       " 'Albizzi': 0.21245421245421245,\n",
       " 'Salviati': 0.14285714285714288,\n",
       " 'Pazzi': 0.0,\n",
       " 'Bischeri': 0.1043956043956044,\n",
       " 'Guadagni': 0.2545787545787546,\n",
       " 'Ginori': 0.0,\n",
       " 'Lamberteschi': 0.0}"
      ]
     },
     "execution_count": 53,
     "metadata": {},
     "output_type": "execute_result"
    }
   ],
   "source": [
    "betweenness"
   ]
  },
  {
   "cell_type": "code",
   "execution_count": 40,
   "metadata": {
    "slideshow": {
     "slide_type": "subslide"
    }
   },
   "outputs": [],
   "source": [
    "pagerank = nx.pagerank(g, alpha=0.9)"
   ]
  },
  {
   "cell_type": "code",
   "execution_count": 54,
   "metadata": {},
   "outputs": [
    {
     "data": {
      "text/plain": [
       "{'Acciaiuoli': 0.0288907572376924,\n",
       " 'Medici': 0.14815767762161916,\n",
       " 'Castellani': 0.07046987542816793,\n",
       " 'Peruzzi': 0.06936095679346557,\n",
       " 'Strozzi': 0.09102599605689621,\n",
       " 'Barbadori': 0.050031808323403926,\n",
       " 'Ridolfi': 0.07112563699417926,\n",
       " 'Tornabuoni': 0.07251428277949368,\n",
       " 'Albizzi': 0.07832435802757254,\n",
       " 'Salviati': 0.05864017590116907,\n",
       " 'Pazzi': 0.0330540904684662,\n",
       " 'Bischeri': 0.07024176052701805,\n",
       " 'Guadagni': 0.09904662496104519,\n",
       " 'Ginori': 0.030163428818308215,\n",
       " 'Lamberteschi': 0.028952570061502432}"
      ]
     },
     "execution_count": 54,
     "metadata": {},
     "output_type": "execute_result"
    }
   ],
   "source": [
    "pagerank"
   ]
  },
  {
   "cell_type": "markdown",
   "metadata": {
    "slideshow": {
     "slide_type": "subslide"
    }
   },
   "source": [
    "**Communicability**   \n",
    "Between pairs of nodes in G is the sum of closed walks of different lengths starting at node u and ending at node v. "
   ]
  },
  {
   "cell_type": "markdown",
   "metadata": {
    "slideshow": {
     "slide_type": "skip"
    }
   },
   "source": [
    "This algorithm uses a spectral decomposition of the adjacency matrix. Let $G=(V,E)$ be a simple undirected graph. Using the connection between the powers of the adjacency matrix and the number of walks in the graph.  \n",
    "\n",
    "$C(u,v)=\\sum_{j=1}^{n}\\phi_{j}(u)\\phi_{j}(v)e^{\\lambda_{j}}$    \n",
    "where $\\phi_{j}(u)$ is the $u\\rm{th}$ element of the $j\\rm{th}$ orthonormal eigenvector of the adjacency matrix associated with the eigenvalue $\\lambda_{j}$."
   ]
  },
  {
   "cell_type": "code",
   "execution_count": 41,
   "metadata": {
    "slideshow": {
     "slide_type": "fragment"
    }
   },
   "outputs": [],
   "source": [
    "communicability = nx.communicability(g)"
   ]
  },
  {
   "cell_type": "code",
   "execution_count": 55,
   "metadata": {},
   "outputs": [
    {
     "data": {
      "text/plain": [
       "{'Acciaiuoli': {'Acciaiuoli': 1.8493484166379492,\n",
       "  'Medici': 2.614221300578799,\n",
       "  'Castellani': 0.36948441281501965,\n",
       "  'Peruzzi': 0.20953408514780292,\n",
       "  'Strozzi': 0.4671322934828184,\n",
       "  'Barbadori': 0.9236193447883454,\n",
       "  'Ridolfi': 1.2608954970140651,\n",
       "  'Tornabuoni': 1.2975131947316112,\n",
       "  'Albizzi': 1.0411480740072612,\n",
       "  'Salviati': 0.9026911439750323,\n",
       "  'Pazzi': 0.240653522954361,\n",
       "  'Bischeri': 0.2605456112718392,\n",
       "  'Guadagni': 0.6540613878987086,\n",
       "  'Ginori': 0.26504034778606433,\n",
       "  'Lamberteschi': 0.13471992661986537},\n",
       " 'Medici': {'Acciaiuoli': 2.614221300578799,\n",
       "  'Medici': 7.2752156711542675,\n",
       "  'Castellani': 1.6002857234189687,\n",
       "  'Peruzzi': 1.0971623175696812,\n",
       "  'Strozzi': 2.100459606248731,\n",
       "  'Barbadori': 2.9837057133938156,\n",
       "  'Ridolfi': 4.378866788793227,\n",
       "  'Tornabuoni': 4.5291781854915705,\n",
       "  'Albizzi': 3.533323036263572,\n",
       "  'Salviati': 2.8548748235331596,\n",
       "  'Pazzi': 0.902691143975031,\n",
       "  'Bischeri': 1.3307277665293318,\n",
       "  'Guadagni': 2.7339268066305773,\n",
       "  'Ginori': 1.041148074007263,\n",
       "  'Lamberteschi': 0.6540613878987105},\n",
       " 'Castellani': {'Acciaiuoli': 0.36948441281501965,\n",
       "  'Medici': 1.6002857234189687,\n",
       "  'Castellani': 4.026543887306141,\n",
       "  'Peruzzi': 3.587179673915154,\n",
       "  'Strozzi': 3.9227125169202948,\n",
       "  'Barbadori': 2.1665071976346906,\n",
       "  'Ridolfi': 1.7303742899397068,\n",
       "  'Tornabuoni': 0.9595606330537192,\n",
       "  'Albizzi': 0.5727036127374152,\n",
       "  'Salviati': 0.38269749103166995,\n",
       "  'Pazzi': 0.07627165729314048,\n",
       "  'Bischeri': 2.4627881086177235,\n",
       "  'Guadagni': 0.9441898039083327,\n",
       "  'Ginori': 0.10846015423798328,\n",
       "  'Lamberteschi': 0.18522685061128252},\n",
       " 'Peruzzi': {'Acciaiuoli': 0.20953408514780292,\n",
       "  'Medici': 1.0971623175696812,\n",
       "  'Castellani': 3.587179673915154,\n",
       "  'Peruzzi': 4.564129036413003,\n",
       "  'Strozzi': 4.53425902559128,\n",
       "  'Barbadori': 1.3136564508398887,\n",
       "  'Ridolfi': 1.7495682636028573,\n",
       "  'Tornabuoni': 0.9667766266445288,\n",
       "  'Albizzi': 0.5771869817708275,\n",
       "  'Salviati': 0.21475068819112786,\n",
       "  'Pazzi': 0.035666884607688465,\n",
       "  'Bischeri': 3.6153548390351897,\n",
       "  'Guadagni': 1.4772242251953713,\n",
       "  'Ginori': 0.10904613380210437,\n",
       "  'Lamberteschi': 0.34959191924836774},\n",
       " 'Strozzi': {'Acciaiuoli': 0.4671322934828184,\n",
       "  'Medici': 2.100459606248731,\n",
       "  'Castellani': 3.9227125169202948,\n",
       "  'Peruzzi': 4.53425902559128,\n",
       "  'Strozzi': 5.632055748390277,\n",
       "  'Barbadori': 1.6405711857971788,\n",
       "  'Ridolfi': 3.0672457431486406,\n",
       "  'Tornabuoni': 1.8231090110805408,\n",
       "  'Albizzi': 0.9261404715492194,\n",
       "  'Salviati': 0.48284389125280713,\n",
       "  'Pazzi': 0.09316400525296992,\n",
       "  'Bischeri': 3.9614635476556286,\n",
       "  'Guadagni': 1.863766741314786,\n",
       "  'Ginori': 0.18062478183813946,\n",
       "  'Lamberteschi': 0.42831728996120755},\n",
       " 'Barbadori': {'Acciaiuoli': 0.9236193447883454,\n",
       "  'Medici': 2.9837057133938156,\n",
       "  'Castellani': 2.1665071976346906,\n",
       "  'Peruzzi': 1.3136564508398887,\n",
       "  'Strozzi': 1.6405711857971788,\n",
       "  'Barbadori': 2.672601974088045,\n",
       "  'Ridolfi': 1.6657448666414814,\n",
       "  'Tornabuoni': 1.4849641795419384,\n",
       "  'Albizzi': 1.149608228245241,\n",
       "  'Salviati': 0.9789628012681708,\n",
       "  'Pazzi': 0.25386660117101134,\n",
       "  'Bischeri': 0.8772636080529641,\n",
       "  'Guadagni': 0.839288238509989,\n",
       "  'Ginori': 0.2830326970971755,\n",
       "  'Lamberteschi': 0.16628059469876078},\n",
       " 'Ridolfi': {'Acciaiuoli': 1.2608954970140651,\n",
       "  'Medici': 4.378866788793227,\n",
       "  'Castellani': 1.7303742899397068,\n",
       "  'Peruzzi': 1.7495682636028573,\n",
       "  'Strozzi': 3.0672457431486406,\n",
       "  'Barbadori': 1.6657448666414814,\n",
       "  'Ridolfi': 4.275103875459843,\n",
       "  'Tornabuoni': 3.5638496687802617,\n",
       "  'Albizzi': 1.810371942612893,\n",
       "  'Salviati': 1.32888761238601,\n",
       "  'Pazzi': 0.3255903237069601,\n",
       "  'Bischeri': 1.8005779367171288,\n",
       "  'Guadagni': 2.0166624696670987,\n",
       "  'Ginori': 0.42053213781442794,\n",
       "  'Lamberteschi': 0.46526788683225606},\n",
       " 'Tornabuoni': {'Acciaiuoli': 1.2975131947316112,\n",
       "  'Medici': 4.5291781854915705,\n",
       "  'Castellani': 0.9595606330537192,\n",
       "  'Peruzzi': 0.9667766266445288,\n",
       "  'Strozzi': 1.8231090110805408,\n",
       "  'Barbadori': 1.4849641795419384,\n",
       "  'Ridolfi': 3.5638496687802617,\n",
       "  'Tornabuoni': 4.318345937348059,\n",
       "  'Albizzi': 2.356597888461968,\n",
       "  'Salviati': 1.3667383977142216,\n",
       "  'Pazzi': 0.33303246315800916,\n",
       "  'Bischeri': 1.5412851622336419,\n",
       "  'Guadagni': 3.0423738869971806,\n",
       "  'Ginori': 0.5885990867674958,\n",
       "  'Lamberteschi': 0.9342837918071872},\n",
       " 'Albizzi': {'Acciaiuoli': 1.0411480740072612,\n",
       "  'Medici': 3.533323036263572,\n",
       "  'Castellani': 0.5727036127374152,\n",
       "  'Peruzzi': 0.5771869817708275,\n",
       "  'Strozzi': 0.9261404715492194,\n",
       "  'Barbadori': 1.149608228245241,\n",
       "  'Ridolfi': 1.810371942612893,\n",
       "  'Tornabuoni': 2.356597888461968,\n",
       "  'Albizzi': 3.592663829441272,\n",
       "  'Salviati': 1.0999005890234672,\n",
       "  'Pazzi': 0.2757138990956818,\n",
       "  'Bischeri': 1.1845885922805228,\n",
       "  'Guadagni': 2.816456180379789,\n",
       "  'Ginori': 1.700404867702728,\n",
       "  'Lamberteschi': 0.8949176766402832},\n",
       " 'Salviati': {'Acciaiuoli': 0.9026911439750323,\n",
       "  'Medici': 2.8548748235331596,\n",
       "  'Castellani': 0.38269749103166995,\n",
       "  'Peruzzi': 0.21475068819112786,\n",
       "  'Strozzi': 0.48284389125280713,\n",
       "  'Barbadori': 0.9789628012681708,\n",
       "  'Ridolfi': 1.32888761238601,\n",
       "  'Tornabuoni': 1.3667383977142216,\n",
       "  'Albizzi': 1.0999005890234672,\n",
       "  'Salviati': 2.5007262707623945,\n",
       "  'Pazzi': 1.4260180134471354,\n",
       "  'Bischeri': 0.2672878198928881,\n",
       "  'Guadagni': 0.6784482127304113,\n",
       "  'Ginori': 0.27571389909568134,\n",
       "  'Lamberteschi': 0.13845693003223047},\n",
       " 'Pazzi': {'Acciaiuoli': 0.240653522954361,\n",
       "  'Medici': 0.902691143975031,\n",
       "  'Castellani': 0.07627165729314048,\n",
       "  'Peruzzi': 0.035666884607688465,\n",
       "  'Strozzi': 0.09316400525296992,\n",
       "  'Barbadori': 0.25386660117101134,\n",
       "  'Ridolfi': 0.3255903237069601,\n",
       "  'Tornabuoni': 0.33303246315800916,\n",
       "  'Albizzi': 0.2757138990956818,\n",
       "  'Salviati': 1.4260180134471354,\n",
       "  'Pazzi': 1.5980351267873616,\n",
       "  'Bischeri': 0.04531502564501755,\n",
       "  'Guadagni': 0.13845693003222923,\n",
       "  'Ginori': 0.058752515016206056,\n",
       "  'Lamberteschi': 0.024386824831702916},\n",
       " 'Bischeri': {'Acciaiuoli': 0.2605456112718392,\n",
       "  'Medici': 1.3307277665293318,\n",
       "  'Castellani': 2.4627881086177235,\n",
       "  'Peruzzi': 3.6153548390351897,\n",
       "  'Strozzi': 3.9614635476556286,\n",
       "  'Barbadori': 0.8772636080529641,\n",
       "  'Ridolfi': 1.8005779367171288,\n",
       "  'Tornabuoni': 1.5412851622336419,\n",
       "  'Albizzi': 1.1845885922805228,\n",
       "  'Salviati': 0.2672878198928881,\n",
       "  'Pazzi': 0.04531502564501755,\n",
       "  'Bischeri': 4.151360630926291,\n",
       "  'Guadagni': 2.7009538214757924,\n",
       "  'Ginori': 0.2881020456947082,\n",
       "  'Lamberteschi': 0.8636800846228829},\n",
       " 'Guadagni': {'Acciaiuoli': 0.6540613878987086,\n",
       "  'Medici': 2.7339268066305773,\n",
       "  'Castellani': 0.9441898039083327,\n",
       "  'Peruzzi': 1.4772242251953713,\n",
       "  'Strozzi': 1.863766741314786,\n",
       "  'Barbadori': 0.839288238509989,\n",
       "  'Ridolfi': 2.0166624696670987,\n",
       "  'Tornabuoni': 3.0423738869971806,\n",
       "  'Albizzi': 2.816456180379789,\n",
       "  'Salviati': 0.6784482127304113,\n",
       "  'Pazzi': 0.13845693003222923,\n",
       "  'Bischeri': 2.7009538214757924,\n",
       "  'Guadagni': 4.399923503553179,\n",
       "  'Ginori': 0.8949176766402827,\n",
       "  'Lamberteschi': 1.9230446122662208},\n",
       " 'Ginori': {'Acciaiuoli': 0.26504034778606433,\n",
       "  'Medici': 1.041148074007263,\n",
       "  'Castellani': 0.10846015423798328,\n",
       "  'Peruzzi': 0.10904613380210437,\n",
       "  'Strozzi': 0.18062478183813946,\n",
       "  'Barbadori': 0.2830326970971755,\n",
       "  'Ridolfi': 0.42053213781442794,\n",
       "  'Tornabuoni': 0.5885990867674958,\n",
       "  'Albizzi': 1.700404867702728,\n",
       "  'Salviati': 0.27571389909568134,\n",
       "  'Pazzi': 0.058752515016206056,\n",
       "  'Bischeri': 0.2881020456947082,\n",
       "  'Guadagni': 0.8949176766402827,\n",
       "  'Ginori': 1.6565980787937291,\n",
       "  'Lamberteschi': 0.23935018021486026},\n",
       " 'Lamberteschi': {'Acciaiuoli': 0.13471992661986537,\n",
       "  'Medici': 0.6540613878987105,\n",
       "  'Castellani': 0.18522685061128252,\n",
       "  'Peruzzi': 0.34959191924836774,\n",
       "  'Strozzi': 0.42831728996120755,\n",
       "  'Barbadori': 0.16628059469876078,\n",
       "  'Ridolfi': 0.46526788683225606,\n",
       "  'Tornabuoni': 0.9342837918071872,\n",
       "  'Albizzi': 0.8949176766402832,\n",
       "  'Salviati': 0.13845693003223047,\n",
       "  'Pazzi': 0.024386824831702916,\n",
       "  'Bischeri': 0.8636800846228829,\n",
       "  'Guadagni': 1.9230446122662208,\n",
       "  'Ginori': 0.23935018021486026,\n",
       "  'Lamberteschi': 1.707041950482836}}"
      ]
     },
     "execution_count": 55,
     "metadata": {},
     "output_type": "execute_result"
    }
   ],
   "source": [
    "communicability"
   ]
  },
  {
   "cell_type": "markdown",
   "metadata": {
    "slideshow": {
     "slide_type": "subslide"
    }
   },
   "source": [
    "### Plotting Betweenness"
   ]
  },
  {
   "cell_type": "code",
   "execution_count": 42,
   "metadata": {
    "slideshow": {
     "slide_type": "fragment"
    }
   },
   "outputs": [],
   "source": [
    "tradeoff = 0.1\n",
    "highbetw = {key if value > tradeoff else None for key, value in betweenness.items()}\n",
    "normbetw = {key if value <= tradeoff else None for key, value in betweenness.items()}"
   ]
  },
  {
   "cell_type": "code",
   "execution_count": 43,
   "metadata": {
    "slideshow": {
     "slide_type": "fragment"
    }
   },
   "outputs": [],
   "source": [
    "subgraphs = [highbetw,normbetw]\n",
    "colors = [\"lightgreen\", \"lemonchiffon\"] #more.. \"skyblue\", \"mistyrose\", \"aliceblue\"]\n",
    "def find_color(node):\n",
    "    for subgraph in subgraphs:\n",
    "        if node in subgraph:\n",
    "            return colors[subgraphs.index(subgraph)]\n",
    "    return \"ghostwhite\""
   ]
  },
  {
   "cell_type": "code",
   "execution_count": 57,
   "metadata": {
    "slideshow": {
     "slide_type": "subslide"
    }
   },
   "outputs": [
    {
     "data": {
      "image/png": "[encoded data removed]",
      "text/plain": [
       "<Figure size 864x576 with 1 Axes>"
      ]
     },
     "metadata": {},
     "output_type": "display_data"
    }
   ],
   "source": [
    "node_colors = [find_color(node) for node in g.nodes()]\n",
    "plt.figure(figsize=(12, 8))\n",
    "#nx.draw(g, with_labels=True, node_size=1400, node_color=node_colors, width=0.3)\n",
    "nx.draw_circular(g, with_labels=True, node_size=1400, node_color=node_colors, width=0.3)"
   ]
  },
  {
   "cell_type": "markdown",
   "metadata": {
    "slideshow": {
     "slide_type": "slide"
    }
   },
   "source": [
    "### Graph Properties"
   ]
  },
  {
   "cell_type": "markdown",
   "metadata": {
    "slideshow": {
     "slide_type": "fragment"
    }
   },
   "source": [
    "As a mathematical object a graph has shape properties by definition"
   ]
  },
  {
   "cell_type": "markdown",
   "metadata": {
    "slideshow": {
     "slide_type": "subslide"
    }
   },
   "source": [
    "#### Degree Frequency"
   ]
  },
  {
   "cell_type": "code",
   "execution_count": 45,
   "metadata": {
    "slideshow": {
     "slide_type": "fragment"
    }
   },
   "outputs": [],
   "source": [
    "# Create function to retrieve nodes and its degrees\n",
    "def degree_table(degree_vector):\n",
    "    d_table = pd.DataFrame()\n",
    "    nodes, degrees = [], []\n",
    "    for node, degree in degree_vector:\n",
    "        nodes.append(node)\n",
    "        degrees.append(degree)\n",
    "    d_table['nodes'] = nodes\n",
    "    d_table['degrees'] = degrees\n",
    "    return d_table"
   ]
  },
  {
   "cell_type": "code",
   "execution_count": 46,
   "metadata": {
    "slideshow": {
     "slide_type": "fragment"
    }
   },
   "outputs": [],
   "source": [
    "degrees = degree_table(g.degree()) #also in_degree(), g.out_degree()\n",
    "plot_degrees = degrees.groupby('degrees').count().head(10)"
   ]
  },
  {
   "cell_type": "code",
   "execution_count": 47,
   "metadata": {
    "slideshow": {
     "slide_type": "subslide"
    }
   },
   "outputs": [
    {
     "data": {
      "text/plain": [
       "Text(0, 0.5, 'Number of nodes')"
      ]
     },
     "execution_count": 47,
     "metadata": {},
     "output_type": "execute_result"
    },
    {
     "data": {
      "image/png": "[encoded data removed]",
      "text/plain": [
       "<Figure size 720x288 with 1 Axes>"
      ]
     },
     "metadata": {
      "needs_background": "light"
     },
     "output_type": "display_data"
    }
   ],
   "source": [
    "plt.figure(figsize=(10, 4))\n",
    "plt.bar(plot_degrees.index, plot_degrees['nodes']) # degree\n",
    "plt.xlabel('Degree')\n",
    "plt.ylabel('Number of nodes')"
   ]
  },
  {
   "cell_type": "markdown",
   "metadata": {
    "slideshow": {
     "slide_type": "subslide"
    }
   },
   "source": [
    "**Eccentricity**   \n",
    "Of a node v is the maximum distance from v to all other nodes in G."
   ]
  },
  {
   "cell_type": "markdown",
   "metadata": {
    "slideshow": {
     "slide_type": "fragment"
    }
   },
   "source": [
    "The **diameter** is the maximum eccentricity."
   ]
  },
  {
   "cell_type": "code",
   "execution_count": 48,
   "metadata": {
    "slideshow": {
     "slide_type": "fragment"
    }
   },
   "outputs": [
    {
     "data": {
      "text/plain": [
       "5"
      ]
     },
     "execution_count": 48,
     "metadata": {},
     "output_type": "execute_result"
    }
   ],
   "source": [
    "nx.diameter(g)"
   ]
  },
  {
   "cell_type": "markdown",
   "metadata": {
    "slideshow": {
     "slide_type": "subslide"
    }
   },
   "source": [
    "The **radius** is the minimum eccentricity."
   ]
  },
  {
   "cell_type": "code",
   "execution_count": 49,
   "metadata": {
    "slideshow": {
     "slide_type": "fragment"
    }
   },
   "outputs": [
    {
     "data": {
      "text/plain": [
       "3"
      ]
     },
     "execution_count": 49,
     "metadata": {},
     "output_type": "execute_result"
    }
   ],
   "source": [
    "nx.radius(g)"
   ]
  },
  {
   "cell_type": "markdown",
   "metadata": {
    "slideshow": {
     "slide_type": "fragment"
    }
   },
   "source": [
    "The **center** is the set of nodes with eccentricity equal to radius."
   ]
  },
  {
   "cell_type": "code",
   "execution_count": 50,
   "metadata": {
    "slideshow": {
     "slide_type": "fragment"
    }
   },
   "outputs": [
    {
     "data": {
      "text/plain": [
       "['Medici', 'Ridolfi', 'Tornabuoni', 'Albizzi']"
      ]
     },
     "execution_count": 50,
     "metadata": {},
     "output_type": "execute_result"
    }
   ],
   "source": [
    "nx.center(g)"
   ]
  },
  {
   "cell_type": "markdown",
   "metadata": {
    "slideshow": {
     "slide_type": "subslide"
    }
   },
   "source": [
    "The **dijkstra** method to find the shortest path between two nodes "
   ]
  },
  {
   "cell_type": "code",
   "execution_count": 51,
   "metadata": {
    "slideshow": {
     "slide_type": "fragment"
    }
   },
   "outputs": [],
   "source": [
    "dijkstra = nx.dijkstra_path(g,'Barbadori','Lamberteschi')"
   ]
  },
  {
   "cell_type": "code",
   "execution_count": 52,
   "metadata": {
    "slideshow": {
     "slide_type": "subslide"
    }
   },
   "outputs": [
    {
     "data": {
      "text/plain": [
       "['Barbadori', 'Medici', 'Tornabuoni', 'Guadagni', 'Lamberteschi']"
      ]
     },
     "execution_count": 52,
     "metadata": {},
     "output_type": "execute_result"
    }
   ],
   "source": [
    "dijkstra"
   ]
  },
  {
   "cell_type": "markdown",
   "metadata": {
    "slideshow": {
     "slide_type": "subslide"
    }
   },
   "source": [
    "## Small famous graphs"
   ]
  },
  {
   "cell_type": "markdown",
   "metadata": {
    "slideshow": {
     "slide_type": "fragment"
    }
   },
   "source": [
    "#### Basic graphs\n",
    "- nx.petersen_graph()\n",
    "- nx.tutte_graph()\n",
    "- nx.sedgewick_maze_graph()\n",
    "- nx.tetrahedral_graph()\n",
    "#### Classic graphs\n",
    "- nx.complete_graph(5)\n",
    "- nx.complete_bipartite_graph(3,5)\n",
    "- nx.barbell_graph(10,10)\n",
    "- nx.lollipop_graph(10,20)\n",
    "#### Random graphs\n",
    "- nx.erdos_renyi_graph(50,0.15)\n",
    "- nx.watts_strogatz_graph(30,3,0.1)\n",
    "- nx.barabasi_albert_graph(50,5)\n",
    "- nx.random_lobster(50,0.9,0.9)"
   ]
  }
 ],
 "metadata": {
  "celltoolbar": "Slideshow",
  "kernelspec": {
   "display_name": "Python 3",
   "language": "python",
   "name": "python3"
  },
  "language_info": {
   "codemirror_mode": {
    "name": "ipython",
    "version": 3
   },
   "file_extension": ".py",
   "mimetype": "text/x-python",
   "name": "python",
   "nbconvert_exporter": "python",
   "pygments_lexer": "ipython3",
   "version": "3.7.3"
  }
 },
 "nbformat": 4,
 "nbformat_minor": 2
}
