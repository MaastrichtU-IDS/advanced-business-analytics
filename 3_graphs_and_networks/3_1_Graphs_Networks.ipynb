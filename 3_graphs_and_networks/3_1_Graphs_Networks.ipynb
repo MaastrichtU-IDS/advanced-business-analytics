{
 "cells": [
  {
   "cell_type": "markdown",
   "metadata": {
    "slideshow": {
     "slide_type": "slide"
    }
   },
   "source": [
    "# Graphs & Networks\n",
    "<img src=\"../img/graph.gif\" width=\"600\">"
   ]
  },
  {
   "cell_type": "markdown",
   "metadata": {
    "slideshow": {
     "slide_type": "subslide"
    }
   },
   "source": [
    "Network analysis and graph representation have its basis in a joint field between discrete mathematics and topology called Graph theory. This field was born out of a very practical problem. (Konigsberg bridge problem, 1736)"
   ]
  },
  {
   "cell_type": "markdown",
   "metadata": {
    "slideshow": {
     "slide_type": "fragment"
    }
   },
   "source": [
    "Königsberg in Prussia (now Kaliningrad, Russia)\n",
    "The problem was to devise a walk through the city that would cross each of those bridges once and only once.\n",
    "The problem has no solution (touch all the edges without repeat the nodes)\n"
   ]
  },
  {
   "cell_type": "markdown",
   "metadata": {
    "slideshow": {
     "slide_type": "fragment"
    }
   },
   "source": [
    "<img src=\"../img/konigsberg.png\" width=\"900\">"
   ]
  },
  {
   "cell_type": "markdown",
   "metadata": {
    "slideshow": {
     "slide_type": "subslide"
    }
   },
   "source": [
    "Euler looked at this and figured out that you really cannot create such a walk.\n",
    "Edsger Dijkstra, a well-known computer scientist who has developed graph algorithms."
   ]
  },
  {
   "cell_type": "markdown",
   "metadata": {
    "slideshow": {
     "slide_type": "fragment"
    }
   },
   "source": [
    "<img src=\"../img/na1.png\" width=\"600\">"
   ]
  },
  {
   "cell_type": "markdown",
   "metadata": {
    "slideshow": {
     "slide_type": "slide"
    }
   },
   "source": [
    "## Analyse phenomena (Network Analysis)\n",
    "\n",
    "## Represent and store data (Graph Databases)\n",
    "\n",
    "## Complex systems (Distributed Ledger Technologies)\n"
   ]
  },
  {
   "cell_type": "markdown",
   "metadata": {
    "slideshow": {
     "slide_type": "slide"
    }
   },
   "source": [
    "## Graph Theory\n",
    "\n",
    "A graph is a pair of sets V and E, where V is the set of vertices and E is the set of edges, formed by pairs of vertices. "
   ]
  },
  {
   "cell_type": "markdown",
   "metadata": {
    "slideshow": {
     "slide_type": "fragment"
    }
   },
   "source": [
    "<img src=\"../img/gt.png\" width=\"800\">"
   ]
  },
  {
   "cell_type": "markdown",
   "metadata": {
    "slideshow": {
     "slide_type": "subslide"
    }
   },
   "source": [
    "### Properties"
   ]
  },
  {
   "cell_type": "markdown",
   "metadata": {
    "slideshow": {
     "slide_type": "subslide"
    }
   },
   "source": [
    "- Edges that have the same vertices are parallel. $(e_4,e_5)$\n",
    "- Edges are adjacent if they share a common end vertex. $(e_1,e_2)$\n",
    "- An edge of the form $(v, v)$ is a loop. $e_3$\n",
    "- A graph is simple if it has no parallel edges or loops.\n",
    "- A graph with no edges (i.e. $E$ are empty) is empty.\n",
    "- A graph with no vertices (i.e. $V$ and $E$ are empty) is a $null$ graph.\n",
    "- A graph with only one vertex is trivial.\n"
   ]
  },
  {
   "cell_type": "markdown",
   "metadata": {
    "slideshow": {
     "slide_type": "fragment"
    }
   },
   "source": [
    "<img src=\"../img/gt1.png\" width=\"400\">"
   ]
  },
  {
   "cell_type": "markdown",
   "metadata": {
    "slideshow": {
     "slide_type": "subslide"
    }
   },
   "source": [
    "- The degree of the vertex $v$, written as $d(v)$, is the number of edges with $v$ as a vertex.\n",
    "- Minimum degree in a graph $G$ is denoted $δ(G)$\n",
    "- Maximum degree in a graph $G$ is we write $∆(G)$\n",
    "- A pendant (leaf) vertex is a vertex whose degree is 1.\n",
    "- An isolated vertex is a vertex whose degree is 0.\n",
    "- The graph $G1 = (V1, E1)$ is a subgraph of $G2 = (V2, E2)$ if $V1V2$ and Every edge of $G1$ is also an edge of $G2$."
   ]
  },
  {
   "cell_type": "markdown",
   "metadata": {
    "slideshow": {
     "slide_type": "fragment"
    }
   },
   "source": [
    "<img src=\"../img/gt1.png\" width=\"400\">"
   ]
  },
  {
   "cell_type": "code",
   "execution_count": null,
   "metadata": {
    "slideshow": {
     "slide_type": "fragment"
    }
   },
   "outputs": [],
   "source": [
    "!pip install py2neo jgraph networkx"
   ]
  }
 ],
 "metadata": {
  "celltoolbar": "Slideshow",
  "kernelspec": {
   "display_name": "Python 3",
   "language": "python",
   "name": "python3"
  },
  "language_info": {
   "codemirror_mode": {
    "name": "ipython",
    "version": 3
   },
   "file_extension": ".py",
   "mimetype": "text/x-python",
   "name": "python",
   "nbconvert_exporter": "python",
   "pygments_lexer": "ipython3",
   "version": "3.7.3"
  }
 },
 "nbformat": 4,
 "nbformat_minor": 2
}
