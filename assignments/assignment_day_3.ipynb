{
 "cells": [
  {
   "cell_type": "markdown",
   "metadata": {},
   "source": [
    "# Assignment Day 3\n",
    "---"
   ]
  },
  {
   "cell_type": "markdown",
   "metadata": {},
   "source": [
    "## Part 1\n",
    "## Practicing with Cypher"
   ]
  },
  {
   "cell_type": "markdown",
   "metadata": {},
   "source": [
    "- Create an empty graph database of neo4j either from `Blank Sandbox` or Neo4j Desktop\n",
    "- Analyze and execute the following queries"
   ]
  },
  {
   "cell_type": "markdown",
   "metadata": {},
   "source": [
    "Creating nodes with properties"
   ]
  },
  {
   "cell_type": "markdown",
   "metadata": {},
   "source": [
    "```cypher\n",
    "CREATE (:Person {name: \"Pedro\"})\n",
    "\n",
    "CREATE (:Person {name: \"Kody\", \n",
    "                department: \"IDS\", \n",
    "                hobby: \"Cricket\"})\n",
    "```"
   ]
  },
  {
   "cell_type": "markdown",
   "metadata": {},
   "source": [
    "Creating nodes, a relation and return them"
   ]
  },
  {
   "cell_type": "markdown",
   "metadata": {},
   "source": [
    "```cypher\n",
    "CREATE (r:Person {name: \"Remzi\", position: \"Postdoc\"}), \n",
    "       (a:Person {name: \"Amrapali\", department: \"IDS\"}),\n",
    "       (r) - [:KNOWS] -> (a)\n",
    "RETURN r, a\n",
    "```"
   ]
  },
  {
   "cell_type": "markdown",
   "metadata": {},
   "source": [
    "Updating relations and properties of existing nodes"
   ]
  },
  {
   "cell_type": "markdown",
   "metadata": {},
   "source": [
    "```cypher\n",
    "MATCH (p:Person {name:\"Pedro\"}), (k:Person{name: \"Kody\"}) \n",
    "MERGE (p)-[:KNOWS]->(k)\n",
    "RETURN p, k\n",
    "```"
   ]
  },
  {
   "cell_type": "markdown",
   "metadata": {},
   "source": [
    "```cypher\n",
    "MATCH (n {name: \"Pedro\" })\n",
    "SET n.department = \"IDS\"\n",
    "SET n.hobby = \"Cooking\"\n",
    "RETURN n\n",
    "```"
   ]
  },
  {
   "cell_type": "markdown",
   "metadata": {},
   "source": [
    "Retrieving nodes and paths"
   ]
  },
  {
   "cell_type": "markdown",
   "metadata": {},
   "source": [
    "```cypher\n",
    "MATCH (node:Person) -- ()\n",
    "WHERE node.department = \"IDS\" \n",
    "RETURN node\n",
    "```"
   ]
  },
  {
   "cell_type": "markdown",
   "metadata": {},
   "source": [
    "```cypher\n",
    "MATCH path = ( ) - [:KNOWS] -> ( ) \n",
    "RETURN path\n",
    "```"
   ]
  },
  {
   "cell_type": "markdown",
   "metadata": {},
   "source": [
    "Creating relations with different type of nodes"
   ]
  },
  {
   "cell_type": "markdown",
   "metadata": {},
   "source": [
    "```cypher\n",
    "CREATE (:Topic {title: \"Graphs\"})\n",
    "\n",
    "MATCH (t:Topic), (p:Person)\n",
    "WHERE p.name IN [\"Remzi\", \"Kody\", \"Amrapali\"]\n",
    "CREATE (p)-[:RESEARCH]->(t)\n",
    "```"
   ]
  },
  {
   "cell_type": "markdown",
   "metadata": {},
   "source": [
    "Creating a full path"
   ]
  },
  {
   "cell_type": "markdown",
   "metadata": {},
   "source": [
    "```cypher\n",
    "\n",
    "CREATE path = (:Person { name:\"Michel\" })-[:RESEARCH]->(:Topic {title: \"FAIR\"})<-[:RESEARCH]-(:Person { name: \"Ricardo\" })\n",
    "RETURN path\n",
    "```"
   ]
  },
  {
   "cell_type": "markdown",
   "metadata": {},
   "source": [
    "Data model or Metagraph"
   ]
  },
  {
   "cell_type": "markdown",
   "metadata": {},
   "source": [
    "```cypher\n",
    "CALL db.schema()\n",
    "```"
   ]
  },
  {
   "cell_type": "markdown",
   "metadata": {},
   "source": [
    "Deleting all"
   ]
  },
  {
   "cell_type": "markdown",
   "metadata": {},
   "source": [
    "```cypher\n",
    "MATCH (n)\n",
    "DETACH DELETE n\n",
    "```"
   ]
  },
  {
   "cell_type": "markdown",
   "metadata": {},
   "source": [
    "## Part 2\n",
    "## Data Story Telling"
   ]
  },
  {
   "cell_type": "markdown",
   "metadata": {},
   "source": [
    "- Select the data you will work with, options:\n",
    "    1. Elaborate from the Game of Trones instance already created\n",
    "    2. The Movie Graph: \n",
    "        In an empty database run the following cypher query in the Neo4j terminal  \n",
    "        ```cypher :play movie-graph```  \n",
    "        Follow the instructions to create the data\n",
    "    3. Launch a new Sandbox with the use case of your preference (Paradise Papers, Legis-Graph, Twitter, etc)"
   ]
  },
  {
   "cell_type": "markdown",
   "metadata": {},
   "source": [
    "- Create a brand new notebook and communicate findings using all the techniques learned, some options to focus on:\n",
    "    1. Pointing out influential nodes\n",
    "    2. Finding a correlation between different centrality measures\n",
    "    3. Graph visualization of communities  \n",
    "    *or all of the above!*"
   ]
  }
 ],
 "metadata": {
  "kernelspec": {
   "display_name": "Python 3",
   "language": "python",
   "name": "python3"
  },
  "language_info": {
   "codemirror_mode": {
    "name": "ipython",
    "version": 3
   },
   "file_extension": ".py",
   "mimetype": "text/x-python",
   "name": "python",
   "nbconvert_exporter": "python",
   "pygments_lexer": "ipython3",
   "version": "3.7.3"
  }
 },
 "nbformat": 4,
 "nbformat_minor": 2
}
