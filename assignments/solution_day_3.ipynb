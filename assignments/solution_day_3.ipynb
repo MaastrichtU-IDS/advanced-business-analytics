{
 "cells": [
  {
   "cell_type": "markdown",
   "metadata": {},
   "source": [
    "# Assignment Day 3\n",
    "---"
   ]
  },
  {
   "cell_type": "markdown",
   "metadata": {},
   "source": [
    "## Part 2\n",
    "## Data Story Telling"
   ]
  },
  {
   "cell_type": "code",
   "execution_count": 1,
   "metadata": {
    "slideshow": {
     "slide_type": "fragment"
    }
   },
   "outputs": [],
   "source": [
    "from py2neo import Graph\n",
    "import pandas as pd\n",
    "import jgraph as jg\n",
    "import networkx as nx\n",
    "import pandas as pd\n",
    "import seaborn as sns\n",
    "import matplotlib.pyplot as plt"
   ]
  },
  {
   "cell_type": "code",
   "execution_count": 5,
   "metadata": {
    "slideshow": {
     "slide_type": "fragment"
    }
   },
   "outputs": [],
   "source": [
    "def query2table(graph, query):\n",
    "    return pd.DataFrame(graph.run(query).data())\n",
    "\n",
    "def query2tuples(graph, query):\n",
    "    return [tuple(x) for x in graph.run(query)]\n",
    "\n",
    "def measure2table(measure):\n",
    "    table = pd.DataFrame.from_dict(measure, orient='index').reset_index()\n",
    "    table.columns = ['nodes','score']\n",
    "    return table.sort_values('score', ascending=False)"
   ]
  },
  {
   "cell_type": "code",
   "execution_count": 6,
   "metadata": {
    "slideshow": {
     "slide_type": "fragment"
    }
   },
   "outputs": [],
   "source": [
    "graph = Graph(password=\"1234\")"
   ]
  },
  {
   "cell_type": "code",
   "execution_count": 7,
   "metadata": {
    "slideshow": {
     "slide_type": "fragment"
    }
   },
   "outputs": [],
   "source": [
    "query_1 = \"\"\"\n",
    "MATCH (nineties:Movie) WHERE nineties.released >= 1990 AND nineties.released < 2000 \n",
    "RETURN nineties.title, nineties.released\n",
    "\"\"\""
   ]
  },
  {
   "cell_type": "code",
   "execution_count": 8,
   "metadata": {
    "slideshow": {
     "slide_type": "fragment"
    }
   },
   "outputs": [
    {
     "data": {
      "text/html": [
       "<div>\n",
       "<style scoped>\n",
       "    .dataframe tbody tr th:only-of-type {\n",
       "        vertical-align: middle;\n",
       "    }\n",
       "\n",
       "    .dataframe tbody tr th {\n",
       "        vertical-align: top;\n",
       "    }\n",
       "\n",
       "    .dataframe thead th {\n",
       "        text-align: right;\n",
       "    }\n",
       "</style>\n",
       "<table border=\"1\" class=\"dataframe\">\n",
       "  <thead>\n",
       "    <tr style=\"text-align: right;\">\n",
       "      <th></th>\n",
       "      <th>nineties.released</th>\n",
       "      <th>nineties.title</th>\n",
       "    </tr>\n",
       "  </thead>\n",
       "  <tbody>\n",
       "    <tr>\n",
       "      <th>0</th>\n",
       "      <td>1999</td>\n",
       "      <td>The Matrix</td>\n",
       "    </tr>\n",
       "    <tr>\n",
       "      <th>1</th>\n",
       "      <td>1997</td>\n",
       "      <td>The Devil's Advocate</td>\n",
       "    </tr>\n",
       "    <tr>\n",
       "      <th>2</th>\n",
       "      <td>1992</td>\n",
       "      <td>A Few Good Men</td>\n",
       "    </tr>\n",
       "    <tr>\n",
       "      <th>3</th>\n",
       "      <td>1997</td>\n",
       "      <td>As Good as It Gets</td>\n",
       "    </tr>\n",
       "    <tr>\n",
       "      <th>4</th>\n",
       "      <td>1998</td>\n",
       "      <td>What Dreams May Come</td>\n",
       "    </tr>\n",
       "    <tr>\n",
       "      <th>5</th>\n",
       "      <td>1999</td>\n",
       "      <td>Snow Falling on Cedars</td>\n",
       "    </tr>\n",
       "    <tr>\n",
       "      <th>6</th>\n",
       "      <td>1998</td>\n",
       "      <td>You've Got Mail</td>\n",
       "    </tr>\n",
       "    <tr>\n",
       "      <th>7</th>\n",
       "      <td>1993</td>\n",
       "      <td>Sleepless in Seattle</td>\n",
       "    </tr>\n",
       "    <tr>\n",
       "      <th>8</th>\n",
       "      <td>1990</td>\n",
       "      <td>Joe Versus the Volcano</td>\n",
       "    </tr>\n",
       "    <tr>\n",
       "      <th>9</th>\n",
       "      <td>1998</td>\n",
       "      <td>When Harry Met Sally</td>\n",
       "    </tr>\n",
       "    <tr>\n",
       "      <th>10</th>\n",
       "      <td>1996</td>\n",
       "      <td>That Thing You Do</td>\n",
       "    </tr>\n",
       "    <tr>\n",
       "      <th>11</th>\n",
       "      <td>1996</td>\n",
       "      <td>The Birdcage</td>\n",
       "    </tr>\n",
       "    <tr>\n",
       "      <th>12</th>\n",
       "      <td>1992</td>\n",
       "      <td>Unforgiven</td>\n",
       "    </tr>\n",
       "    <tr>\n",
       "      <th>13</th>\n",
       "      <td>1995</td>\n",
       "      <td>Johnny Mnemonic</td>\n",
       "    </tr>\n",
       "    <tr>\n",
       "      <th>14</th>\n",
       "      <td>1999</td>\n",
       "      <td>The Green Mile</td>\n",
       "    </tr>\n",
       "    <tr>\n",
       "      <th>15</th>\n",
       "      <td>1992</td>\n",
       "      <td>Hoffa</td>\n",
       "    </tr>\n",
       "    <tr>\n",
       "      <th>16</th>\n",
       "      <td>1995</td>\n",
       "      <td>Apollo 13</td>\n",
       "    </tr>\n",
       "    <tr>\n",
       "      <th>17</th>\n",
       "      <td>1996</td>\n",
       "      <td>Twister</td>\n",
       "    </tr>\n",
       "    <tr>\n",
       "      <th>18</th>\n",
       "      <td>1999</td>\n",
       "      <td>Bicentennial Man</td>\n",
       "    </tr>\n",
       "    <tr>\n",
       "      <th>19</th>\n",
       "      <td>1992</td>\n",
       "      <td>A League of Their Own</td>\n",
       "    </tr>\n",
       "  </tbody>\n",
       "</table>\n",
       "</div>"
      ],
      "text/plain": [
       "    nineties.released          nineties.title\n",
       "0                1999              The Matrix\n",
       "1                1997    The Devil's Advocate\n",
       "2                1992          A Few Good Men\n",
       "3                1997      As Good as It Gets\n",
       "4                1998    What Dreams May Come\n",
       "5                1999  Snow Falling on Cedars\n",
       "6                1998         You've Got Mail\n",
       "7                1993    Sleepless in Seattle\n",
       "8                1990  Joe Versus the Volcano\n",
       "9                1998    When Harry Met Sally\n",
       "10               1996       That Thing You Do\n",
       "11               1996            The Birdcage\n",
       "12               1992              Unforgiven\n",
       "13               1995         Johnny Mnemonic\n",
       "14               1999          The Green Mile\n",
       "15               1992                   Hoffa\n",
       "16               1995               Apollo 13\n",
       "17               1996                 Twister\n",
       "18               1999        Bicentennial Man\n",
       "19               1992   A League of Their Own"
      ]
     },
     "execution_count": 8,
     "metadata": {},
     "output_type": "execute_result"
    }
   ],
   "source": [
    "query2table(graph, query_1)"
   ]
  },
  {
   "cell_type": "code",
   "execution_count": 38,
   "metadata": {},
   "outputs": [],
   "source": [
    "query = \"\"\"\n",
    "MATCH (n)-->(m) RETURN n.name, m.title\n",
    "\"\"\"\n",
    "#MATCH (n)-->(m) RETURN ID(n),ID(m)"
   ]
  },
  {
   "cell_type": "code",
   "execution_count": 39,
   "metadata": {},
   "outputs": [],
   "source": [
    "query_tuples = query2tuples(graph, query)"
   ]
  },
  {
   "cell_type": "code",
   "execution_count": 40,
   "metadata": {
    "slideshow": {
     "slide_type": "subslide"
    }
   },
   "outputs": [],
   "source": [
    "g = nx.Graph()\n",
    "g.add_edges_from(query_tuples)"
   ]
  },
  {
   "cell_type": "code",
   "execution_count": 41,
   "metadata": {
    "slideshow": {
     "slide_type": "fragment"
    }
   },
   "outputs": [],
   "source": [
    "centrality = measure2table(nx.degree_centrality(g))"
   ]
  },
  {
   "cell_type": "code",
   "execution_count": 42,
   "metadata": {
    "slideshow": {
     "slide_type": "fragment"
    }
   },
   "outputs": [
    {
     "data": {
      "text/html": [
       "<div>\n",
       "<style scoped>\n",
       "    .dataframe tbody tr th:only-of-type {\n",
       "        vertical-align: middle;\n",
       "    }\n",
       "\n",
       "    .dataframe tbody tr th {\n",
       "        vertical-align: top;\n",
       "    }\n",
       "\n",
       "    .dataframe thead th {\n",
       "        text-align: right;\n",
       "    }\n",
       "</style>\n",
       "<table border=\"1\" class=\"dataframe\">\n",
       "  <thead>\n",
       "    <tr style=\"text-align: right;\">\n",
       "      <th></th>\n",
       "      <th>nodes</th>\n",
       "      <th>score</th>\n",
       "    </tr>\n",
       "  </thead>\n",
       "  <tbody>\n",
       "    <tr>\n",
       "      <th>16</th>\n",
       "      <td>A Few Good Men</td>\n",
       "      <td>0.076023</td>\n",
       "    </tr>\n",
       "    <tr>\n",
       "      <th>73</th>\n",
       "      <td>Tom Hanks</td>\n",
       "      <td>0.070175</td>\n",
       "    </tr>\n",
       "    <tr>\n",
       "      <th>38</th>\n",
       "      <td>Jerry Maguire</td>\n",
       "      <td>0.064327</td>\n",
       "    </tr>\n",
       "    <tr>\n",
       "      <th>124</th>\n",
       "      <td>Speed Racer</td>\n",
       "      <td>0.058480</td>\n",
       "    </tr>\n",
       "    <tr>\n",
       "      <th>108</th>\n",
       "      <td>Cloud Atlas</td>\n",
       "      <td>0.058480</td>\n",
       "    </tr>\n",
       "  </tbody>\n",
       "</table>\n",
       "</div>"
      ],
      "text/plain": [
       "              nodes     score\n",
       "16   A Few Good Men  0.076023\n",
       "73        Tom Hanks  0.070175\n",
       "38    Jerry Maguire  0.064327\n",
       "124     Speed Racer  0.058480\n",
       "108     Cloud Atlas  0.058480"
      ]
     },
     "execution_count": 42,
     "metadata": {},
     "output_type": "execute_result"
    }
   ],
   "source": [
    "centrality.head()"
   ]
  },
  {
   "cell_type": "code",
   "execution_count": 43,
   "metadata": {
    "slideshow": {
     "slide_type": "fragment"
    }
   },
   "outputs": [],
   "source": [
    "closeness = measure2table(nx.closeness_centrality(g))"
   ]
  },
  {
   "cell_type": "code",
   "execution_count": 44,
   "metadata": {
    "slideshow": {
     "slide_type": "fragment"
    }
   },
   "outputs": [
    {
     "data": {
      "text/html": [
       "<div>\n",
       "<style scoped>\n",
       "    .dataframe tbody tr th:only-of-type {\n",
       "        vertical-align: middle;\n",
       "    }\n",
       "\n",
       "    .dataframe tbody tr th {\n",
       "        vertical-align: top;\n",
       "    }\n",
       "\n",
       "    .dataframe thead th {\n",
       "        text-align: right;\n",
       "    }\n",
       "</style>\n",
       "<table border=\"1\" class=\"dataframe\">\n",
       "  <thead>\n",
       "    <tr style=\"text-align: right;\">\n",
       "      <th></th>\n",
       "      <th>nodes</th>\n",
       "      <th>score</th>\n",
       "    </tr>\n",
       "  </thead>\n",
       "  <tbody>\n",
       "    <tr>\n",
       "      <th>73</th>\n",
       "      <td>Tom Hanks</td>\n",
       "      <td>0.299475</td>\n",
       "    </tr>\n",
       "    <tr>\n",
       "      <th>37</th>\n",
       "      <td>Jessica Thompson</td>\n",
       "      <td>0.286432</td>\n",
       "    </tr>\n",
       "    <tr>\n",
       "      <th>108</th>\n",
       "      <td>Cloud Atlas</td>\n",
       "      <td>0.286432</td>\n",
       "    </tr>\n",
       "    <tr>\n",
       "      <th>16</th>\n",
       "      <td>A Few Good Men</td>\n",
       "      <td>0.273600</td>\n",
       "    </tr>\n",
       "    <tr>\n",
       "      <th>38</th>\n",
       "      <td>Jerry Maguire</td>\n",
       "      <td>0.272727</td>\n",
       "    </tr>\n",
       "  </tbody>\n",
       "</table>\n",
       "</div>"
      ],
      "text/plain": [
       "                nodes     score\n",
       "73          Tom Hanks  0.299475\n",
       "37   Jessica Thompson  0.286432\n",
       "108       Cloud Atlas  0.286432\n",
       "16     A Few Good Men  0.273600\n",
       "38      Jerry Maguire  0.272727"
      ]
     },
     "execution_count": 44,
     "metadata": {},
     "output_type": "execute_result"
    }
   ],
   "source": [
    "closeness.head()"
   ]
  },
  {
   "cell_type": "code",
   "execution_count": 45,
   "metadata": {
    "slideshow": {
     "slide_type": "fragment"
    }
   },
   "outputs": [],
   "source": [
    "betweenness = measure2table(nx.betweenness_centrality(g))"
   ]
  },
  {
   "cell_type": "code",
   "execution_count": 46,
   "metadata": {
    "slideshow": {
     "slide_type": "fragment"
    }
   },
   "outputs": [
    {
     "data": {
      "text/html": [
       "<div>\n",
       "<style scoped>\n",
       "    .dataframe tbody tr th:only-of-type {\n",
       "        vertical-align: middle;\n",
       "    }\n",
       "\n",
       "    .dataframe tbody tr th {\n",
       "        vertical-align: top;\n",
       "    }\n",
       "\n",
       "    .dataframe thead th {\n",
       "        text-align: right;\n",
       "    }\n",
       "</style>\n",
       "<table border=\"1\" class=\"dataframe\">\n",
       "  <thead>\n",
       "    <tr style=\"text-align: right;\">\n",
       "      <th></th>\n",
       "      <th>nodes</th>\n",
       "      <th>score</th>\n",
       "    </tr>\n",
       "  </thead>\n",
       "  <tbody>\n",
       "    <tr>\n",
       "      <th>73</th>\n",
       "      <td>Tom Hanks</td>\n",
       "      <td>0.334855</td>\n",
       "    </tr>\n",
       "    <tr>\n",
       "      <th>108</th>\n",
       "      <td>Cloud Atlas</td>\n",
       "      <td>0.211607</td>\n",
       "    </tr>\n",
       "    <tr>\n",
       "      <th>16</th>\n",
       "      <td>A Few Good Men</td>\n",
       "      <td>0.211523</td>\n",
       "    </tr>\n",
       "    <tr>\n",
       "      <th>37</th>\n",
       "      <td>Jessica Thompson</td>\n",
       "      <td>0.165433</td>\n",
       "    </tr>\n",
       "    <tr>\n",
       "      <th>38</th>\n",
       "      <td>Jerry Maguire</td>\n",
       "      <td>0.148558</td>\n",
       "    </tr>\n",
       "  </tbody>\n",
       "</table>\n",
       "</div>"
      ],
      "text/plain": [
       "                nodes     score\n",
       "73          Tom Hanks  0.334855\n",
       "108       Cloud Atlas  0.211607\n",
       "16     A Few Good Men  0.211523\n",
       "37   Jessica Thompson  0.165433\n",
       "38      Jerry Maguire  0.148558"
      ]
     },
     "execution_count": 46,
     "metadata": {},
     "output_type": "execute_result"
    }
   ],
   "source": [
    "betweenness.head()"
   ]
  },
  {
   "cell_type": "code",
   "execution_count": 47,
   "metadata": {
    "slideshow": {
     "slide_type": "subslide"
    }
   },
   "outputs": [],
   "source": [
    "pagerank = measure2table(nx.pagerank(g, alpha=0.9))"
   ]
  },
  {
   "cell_type": "code",
   "execution_count": 48,
   "metadata": {},
   "outputs": [
    {
     "data": {
      "text/html": [
       "<div>\n",
       "<style scoped>\n",
       "    .dataframe tbody tr th:only-of-type {\n",
       "        vertical-align: middle;\n",
       "    }\n",
       "\n",
       "    .dataframe tbody tr th {\n",
       "        vertical-align: top;\n",
       "    }\n",
       "\n",
       "    .dataframe thead th {\n",
       "        text-align: right;\n",
       "    }\n",
       "</style>\n",
       "<table border=\"1\" class=\"dataframe\">\n",
       "  <thead>\n",
       "    <tr style=\"text-align: right;\">\n",
       "      <th></th>\n",
       "      <th>nodes</th>\n",
       "      <th>score</th>\n",
       "    </tr>\n",
       "  </thead>\n",
       "  <tbody>\n",
       "    <tr>\n",
       "      <th>16</th>\n",
       "      <td>A Few Good Men</td>\n",
       "      <td>0.026381</td>\n",
       "    </tr>\n",
       "    <tr>\n",
       "      <th>38</th>\n",
       "      <td>Jerry Maguire</td>\n",
       "      <td>0.023829</td>\n",
       "    </tr>\n",
       "    <tr>\n",
       "      <th>73</th>\n",
       "      <td>Tom Hanks</td>\n",
       "      <td>0.023020</td>\n",
       "    </tr>\n",
       "    <tr>\n",
       "      <th>134</th>\n",
       "      <td>The Green Mile</td>\n",
       "      <td>0.019349</td>\n",
       "    </tr>\n",
       "    <tr>\n",
       "      <th>30</th>\n",
       "      <td>Top Gun</td>\n",
       "      <td>0.019180</td>\n",
       "    </tr>\n",
       "  </tbody>\n",
       "</table>\n",
       "</div>"
      ],
      "text/plain": [
       "              nodes     score\n",
       "16   A Few Good Men  0.026381\n",
       "38    Jerry Maguire  0.023829\n",
       "73        Tom Hanks  0.023020\n",
       "134  The Green Mile  0.019349\n",
       "30          Top Gun  0.019180"
      ]
     },
     "execution_count": 48,
     "metadata": {},
     "output_type": "execute_result"
    }
   ],
   "source": [
    "pagerank.head()"
   ]
  },
  {
   "cell_type": "code",
   "execution_count": 21,
   "metadata": {
    "slideshow": {
     "slide_type": "fragment"
    }
   },
   "outputs": [],
   "source": [
    "def degree_table(degree_vector):\n",
    "    d_table = pd.DataFrame()\n",
    "    nodes, degrees = [], []\n",
    "    for node, degree in degree_vector:\n",
    "        nodes.append(node)\n",
    "        degrees.append(degree)\n",
    "    d_table['nodes'] = nodes\n",
    "    d_table['degrees'] = degrees\n",
    "    return d_table"
   ]
  },
  {
   "cell_type": "code",
   "execution_count": 22,
   "metadata": {
    "slideshow": {
     "slide_type": "fragment"
    }
   },
   "outputs": [],
   "source": [
    "degrees = degree_table(g.degree())\n",
    "plot_degrees = degrees.groupby('degrees').count().head(10)"
   ]
  },
  {
   "cell_type": "code",
   "execution_count": 23,
   "metadata": {
    "slideshow": {
     "slide_type": "subslide"
    }
   },
   "outputs": [
    {
     "data": {
      "text/plain": [
       "Text(0, 0.5, 'Number of nodes')"
      ]
     },
     "execution_count": 23,
     "metadata": {},
     "output_type": "execute_result"
    },
    {
     "data": {
      "image/png": "[encoded data removed]",
      "text/plain": [
       "<Figure size 720x288 with 1 Axes>"
      ]
     },
     "metadata": {
      "needs_background": "light"
     },
     "output_type": "display_data"
    }
   ],
   "source": [
    "plt.figure(figsize=(10, 4))\n",
    "plt.bar(plot_degrees.index, plot_degrees['nodes']) # degree\n",
    "plt.xlabel('Degree')\n",
    "plt.ylabel('Number of nodes')"
   ]
  },
  {
   "cell_type": "code",
   "execution_count": 24,
   "metadata": {
    "slideshow": {
     "slide_type": "subslide"
    }
   },
   "outputs": [
    {
     "data": {
      "text/html": [
       "<div id=\"graph-b88a120e-9c8c-4416-99b4-a3545b8bb28d\"></div>\n",
       "           <script type=\"text/javascript\">\n",
       "           require.config({baseUrl: '/',\n",
       "                             paths: {jgraph: ['nbextensions/jgraph.min', 'https://rawgit.com/patrickfuller/jgraph/master/js/build/jgraph.min']}});\n",
       "           require(['jgraph'], function () {\n",
       "               var $d = $('#graph-b88a120e-9c8c-4416-99b4-a3545b8bb28d');\n",
       "               $d.width(800); $d.height(600);\n",
       "               $d.jgraph = jQuery.extend({}, jgraph);\n",
       "               $d.jgraph.create($d, {nodeSize: 2.000000,\n",
       "                                     edgeSize: 0.250000,\n",
       "                                     defaultNodeColor: '0x383294',\n",
       "                                     defaultEdgeColor: '0xaaaaaa',\n",
       "                                     shader: 'lambert',\n",
       "                                     z: 200,\n",
       "                                     runOptimization: true,\n",
       "                                     directed: false,\n",
       "                                     showSave: false});\n",
       "               $d.jgraph.draw({\n",
       "    \"edges\": [\n",
       "        { \"source\": 8, \"target\": 0 },\n",
       "        { \"source\": 3, \"target\": 0 },\n",
       "        { \"source\": 7, \"target\": 0 },\n",
       "        { \"source\": 6, \"target\": 0 },\n",
       "        { \"source\": 5, \"target\": 0 },\n",
       "        { \"source\": 4, \"target\": 0 },\n",
       "        { \"source\": 2, \"target\": 0 },\n",
       "        { \"source\": 1, \"target\": 0 },\n",
       "        { \"source\": 2, \"target\": 9 },\n",
       "        { \"source\": 3, \"target\": 9 },\n",
       "        { \"source\": 1, \"target\": 9 },\n",
       "        { \"source\": 6, \"target\": 9 },\n",
       "        { \"source\": 7, \"target\": 9 },\n",
       "        { \"source\": 4, \"target\": 9 },\n",
       "        { \"source\": 5, \"target\": 9 },\n",
       "        { \"source\": 3, \"target\": 10 },\n",
       "        { \"source\": 4, \"target\": 10 },\n",
       "        { \"source\": 1, \"target\": 10 },\n",
       "        { \"source\": 2, \"target\": 10 },\n",
       "        { \"source\": 7, \"target\": 10 },\n",
       "        { \"source\": 5, \"target\": 10 },\n",
       "        { \"source\": 6, \"target\": 10 },\n",
       "        { \"source\": 13, \"target\": 11 },\n",
       "        { \"source\": 12, \"target\": 11 },\n",
       "        { \"source\": 14, \"target\": 11 },\n",
       "        { \"source\": 1, \"target\": 11 },\n",
       "        { \"source\": 28, \"target\": 15 },\n",
       "        { \"source\": 22, \"target\": 15 },\n",
       "        { \"source\": 21, \"target\": 15 },\n",
       "        { \"source\": 24, \"target\": 15 },\n",
       "        { \"source\": 23, \"target\": 15 },\n",
       "        { \"source\": 26, \"target\": 15 },\n",
       "        { \"source\": 25, \"target\": 15 },\n",
       "        { \"source\": 27, \"target\": 15 },\n",
       "        { \"source\": 28, \"target\": 15 },\n",
       "        { \"source\": 16, \"target\": 15 },\n",
       "        { \"source\": 18, \"target\": 15 },\n",
       "        { \"source\": 17, \"target\": 15 },\n",
       "        { \"source\": 20, \"target\": 15 },\n",
       "        { \"source\": 19, \"target\": 15 },\n",
       "        { \"source\": 36, \"target\": 29 },\n",
       "        { \"source\": 16, \"target\": 29 },\n",
       "        { \"source\": 30, \"target\": 29 },\n",
       "        { \"source\": 31, \"target\": 29 },\n",
       "        { \"source\": 32, \"target\": 29 },\n",
       "        { \"source\": 33, \"target\": 29 },\n",
       "        { \"source\": 34, \"target\": 29 },\n",
       "        { \"source\": 35, \"target\": 29 },\n",
       "        { \"source\": 169, \"target\": 37 },\n",
       "        { \"source\": 45, \"target\": 37 },\n",
       "        { \"source\": 45, \"target\": 37 },\n",
       "        { \"source\": 45, \"target\": 37 },\n",
       "        { \"source\": 43, \"target\": 37 },\n",
       "        { \"source\": 44, \"target\": 37 },\n",
       "        { \"source\": 16, \"target\": 37 },\n",
       "        { \"source\": 22, \"target\": 37 },\n",
       "        { \"source\": 38, \"target\": 37 },\n",
       "        { \"source\": 39, \"target\": 37 },\n",
       "        { \"source\": 40, \"target\": 37 },\n",
       "        { \"source\": 41, \"target\": 37 },\n",
       "        { \"source\": 42, \"target\": 37 },\n",
       "        { \"source\": 47, \"target\": 46 },\n",
       "        { \"source\": 40, \"target\": 46 },\n",
       "        { \"source\": 49, \"target\": 46 },\n",
       "        { \"source\": 27, \"target\": 46 },\n",
       "        { \"source\": 20, \"target\": 46 },\n",
       "        { \"source\": 51, \"target\": 46 },\n",
       "        { \"source\": 48, \"target\": 46 },\n",
       "        { \"source\": 50, \"target\": 46 },\n",
       "        { \"source\": 55, \"target\": 52 },\n",
       "        { \"source\": 22, \"target\": 52 },\n",
       "        { \"source\": 53, \"target\": 52 },\n",
       "        { \"source\": 54, \"target\": 52 },\n",
       "        { \"source\": 17, \"target\": 52 },\n",
       "        { \"source\": 61, \"target\": 56 },\n",
       "        { \"source\": 59, \"target\": 56 },\n",
       "        { \"source\": 58, \"target\": 56 },\n",
       "        { \"source\": 57, \"target\": 56 },\n",
       "        { \"source\": 22, \"target\": 56 },\n",
       "        { \"source\": 60, \"target\": 56 },\n",
       "        { \"source\": 66, \"target\": 62 },\n",
       "        { \"source\": 65, \"target\": 62 },\n",
       "        { \"source\": 58, \"target\": 62 },\n",
       "        { \"source\": 64, \"target\": 62 },\n",
       "        { \"source\": 63, \"target\": 62 },\n",
       "        { \"source\": 68, \"target\": 67 },\n",
       "        { \"source\": 69, \"target\": 67 },\n",
       "        { \"source\": 70, \"target\": 67 },\n",
       "        { \"source\": 72, \"target\": 67 },\n",
       "        { \"source\": 54, \"target\": 67 },\n",
       "        { \"source\": 34, \"target\": 67 },\n",
       "        { \"source\": 71, \"target\": 67 },\n",
       "        { \"source\": 71, \"target\": 73 },\n",
       "        { \"source\": 34, \"target\": 73 },\n",
       "        { \"source\": 74, \"target\": 73 },\n",
       "        { \"source\": 75, \"target\": 73 },\n",
       "        { \"source\": 76, \"target\": 73 },\n",
       "        { \"source\": 77, \"target\": 73 },\n",
       "        { \"source\": 72, \"target\": 73 },\n",
       "        { \"source\": 34, \"target\": 78 },\n",
       "        { \"source\": 80, \"target\": 78 },\n",
       "        { \"source\": 79, \"target\": 78 },\n",
       "        { \"source\": 71, \"target\": 78 },\n",
       "        { \"source\": 72, \"target\": 81 },\n",
       "        { \"source\": 27, \"target\": 81 },\n",
       "        { \"source\": 72, \"target\": 81 },\n",
       "        { \"source\": 83, \"target\": 81 },\n",
       "        { \"source\": 34, \"target\": 81 },\n",
       "        { \"source\": 27, \"target\": 81 },\n",
       "        { \"source\": 84, \"target\": 81 },\n",
       "        { \"source\": 82, \"target\": 81 },\n",
       "        { \"source\": 71, \"target\": 85 },\n",
       "        { \"source\": 12, \"target\": 85 },\n",
       "        { \"source\": 86, \"target\": 85 },\n",
       "        { \"source\": 71, \"target\": 85 },\n",
       "        { \"source\": 168, \"target\": 87 },\n",
       "        { \"source\": 169, \"target\": 87 },\n",
       "        { \"source\": 170, \"target\": 87 },\n",
       "        { \"source\": 89, \"target\": 87 },\n",
       "        { \"source\": 88, \"target\": 87 },\n",
       "        { \"source\": 91, \"target\": 87 },\n",
       "        { \"source\": 90, \"target\": 87 },\n",
       "        { \"source\": 1, \"target\": 87 },\n",
       "        { \"source\": 94, \"target\": 92 },\n",
       "        { \"source\": 70, \"target\": 92 },\n",
       "        { \"source\": 51, \"target\": 92 },\n",
       "        { \"source\": 93, \"target\": 92 },\n",
       "        { \"source\": 59, \"target\": 92 },\n",
       "        { \"source\": 169, \"target\": 95 },\n",
       "        { \"source\": 80, \"target\": 95 },\n",
       "        { \"source\": 89, \"target\": 95 },\n",
       "        { \"source\": 60, \"target\": 95 },\n",
       "        { \"source\": 96, \"target\": 95 },\n",
       "        { \"source\": 169, \"target\": 97 },\n",
       "        { \"source\": 99, \"target\": 97 },\n",
       "        { \"source\": 89, \"target\": 97 },\n",
       "        { \"source\": 98, \"target\": 97 },\n",
       "        { \"source\": 99, \"target\": 97 },\n",
       "        { \"source\": 104, \"target\": 100 },\n",
       "        { \"source\": 103, \"target\": 100 },\n",
       "        { \"source\": 101, \"target\": 100 },\n",
       "        { \"source\": 102, \"target\": 100 },\n",
       "        { \"source\": 1, \"target\": 100 },\n",
       "        { \"source\": 169, \"target\": 105 },\n",
       "        { \"source\": 4, \"target\": 105 },\n",
       "        { \"source\": 71, \"target\": 105 },\n",
       "        { \"source\": 5, \"target\": 105 },\n",
       "        { \"source\": 108, \"target\": 105 },\n",
       "        { \"source\": 107, \"target\": 105 },\n",
       "        { \"source\": 106, \"target\": 105 },\n",
       "        { \"source\": 110, \"target\": 105 },\n",
       "        { \"source\": 109, \"target\": 105 },\n",
       "        { \"source\": 6, \"target\": 105 },\n",
       "        { \"source\": 169, \"target\": 111 },\n",
       "        { \"source\": 170, \"target\": 111 },\n",
       "        { \"source\": 71, \"target\": 111 },\n",
       "        { \"source\": 115, \"target\": 111 },\n",
       "        { \"source\": 114, \"target\": 111 },\n",
       "        { \"source\": 113, \"target\": 111 },\n",
       "        { \"source\": 112, \"target\": 111 },\n",
       "        { \"source\": 4, \"target\": 116 },\n",
       "        { \"source\": 117, \"target\": 116 },\n",
       "        { \"source\": 118, \"target\": 116 },\n",
       "        { \"source\": 119, \"target\": 116 },\n",
       "        { \"source\": 120, \"target\": 116 },\n",
       "        { \"source\": 25, \"target\": 116 },\n",
       "        { \"source\": 5, \"target\": 116 },\n",
       "        { \"source\": 6, \"target\": 116 },\n",
       "        { \"source\": 7, \"target\": 116 },\n",
       "        { \"source\": 5, \"target\": 116 },\n",
       "        { \"source\": 6, \"target\": 116 },\n",
       "        { \"source\": 120, \"target\": 121 },\n",
       "        { \"source\": 127, \"target\": 121 },\n",
       "        { \"source\": 6, \"target\": 121 },\n",
       "        { \"source\": 5, \"target\": 121 },\n",
       "        { \"source\": 6, \"target\": 121 },\n",
       "        { \"source\": 5, \"target\": 121 },\n",
       "        { \"source\": 7, \"target\": 121 },\n",
       "        { \"source\": 122, \"target\": 121 },\n",
       "        { \"source\": 123, \"target\": 121 },\n",
       "        { \"source\": 124, \"target\": 121 },\n",
       "        { \"source\": 125, \"target\": 121 },\n",
       "        { \"source\": 126, \"target\": 121 },\n",
       "        { \"source\": 127, \"target\": 128 },\n",
       "        { \"source\": 64, \"target\": 128 },\n",
       "        { \"source\": 129, \"target\": 128 },\n",
       "        { \"source\": 25, \"target\": 128 },\n",
       "        { \"source\": 120, \"target\": 128 },\n",
       "        { \"source\": 6, \"target\": 128 },\n",
       "        { \"source\": 5, \"target\": 128 },\n",
       "        { \"source\": 7, \"target\": 128 },\n",
       "        { \"source\": 134, \"target\": 130 },\n",
       "        { \"source\": 133, \"target\": 130 },\n",
       "        { \"source\": 136, \"target\": 130 },\n",
       "        { \"source\": 135, \"target\": 130 },\n",
       "        { \"source\": 132, \"target\": 130 },\n",
       "        { \"source\": 131, \"target\": 130 },\n",
       "        { \"source\": 65, \"target\": 130 },\n",
       "        { \"source\": 42, \"target\": 130 },\n",
       "        { \"source\": 71, \"target\": 130 },\n",
       "        { \"source\": 115, \"target\": 137 },\n",
       "        { \"source\": 133, \"target\": 137 },\n",
       "        { \"source\": 139, \"target\": 137 },\n",
       "        { \"source\": 138, \"target\": 137 },\n",
       "        { \"source\": 140, \"target\": 137 },\n",
       "        { \"source\": 19, \"target\": 137 },\n",
       "        { \"source\": 142, \"target\": 141 },\n",
       "        { \"source\": 17, \"target\": 141 },\n",
       "        { \"source\": 24, \"target\": 141 },\n",
       "        { \"source\": 143, \"target\": 141 },\n",
       "        { \"source\": 142, \"target\": 141 },\n",
       "        { \"source\": 115, \"target\": 144 },\n",
       "        { \"source\": 19, \"target\": 144 },\n",
       "        { \"source\": 145, \"target\": 144 },\n",
       "        { \"source\": 146, \"target\": 144 },\n",
       "        { \"source\": 134, \"target\": 144 },\n",
       "        { \"source\": 71, \"target\": 144 },\n",
       "        { \"source\": 148, \"target\": 147 },\n",
       "        { \"source\": 149, \"target\": 147 },\n",
       "        { \"source\": 146, \"target\": 147 },\n",
       "        { \"source\": 53, \"target\": 147 },\n",
       "        { \"source\": 94, \"target\": 147 },\n",
       "        { \"source\": 151, \"target\": 150 },\n",
       "        { \"source\": 71, \"target\": 150 },\n",
       "        { \"source\": 53, \"target\": 150 },\n",
       "        { \"source\": 153, \"target\": 152 },\n",
       "        { \"source\": 142, \"target\": 152 },\n",
       "        { \"source\": 17, \"target\": 152 },\n",
       "        { \"source\": 156, \"target\": 154 },\n",
       "        { \"source\": 156, \"target\": 154 },\n",
       "        { \"source\": 156, \"target\": 154 },\n",
       "        { \"source\": 1, \"target\": 154 },\n",
       "        { \"source\": 155, \"target\": 154 },\n",
       "        { \"source\": 17, \"target\": 154 },\n",
       "        { \"source\": 158, \"target\": 157 },\n",
       "        { \"source\": 140, \"target\": 157 },\n",
       "        { \"source\": 60, \"target\": 157 },\n",
       "        { \"source\": 148, \"target\": 159 },\n",
       "        { \"source\": 160, \"target\": 159 },\n",
       "        { \"source\": 71, \"target\": 159 },\n",
       "        { \"source\": 96, \"target\": 159 },\n",
       "        { \"source\": 151, \"target\": 161 },\n",
       "        { \"source\": 71, \"target\": 161 },\n",
       "        { \"source\": 146, \"target\": 162 },\n",
       "        { \"source\": 166, \"target\": 162 },\n",
       "        { \"source\": 77, \"target\": 162 },\n",
       "        { \"source\": 163, \"target\": 162 },\n",
       "        { \"source\": 164, \"target\": 162 },\n",
       "        { \"source\": 165, \"target\": 162 },\n",
       "        { \"source\": 71, \"target\": 162 },\n",
       "        { \"source\": 167, \"target\": 168 },\n",
       "        { \"source\": 170, \"target\": 169 },\n",
       "        { \"source\": 168, \"target\": 169 }\n",
       "    ],\n",
       "    \"nodes\": {\n",
       "        \"0\": { \"location\": [ -2.0, -2.0, -2.0 ] },\n",
       "        \"1\": { \"location\": [ -2.0, -2.0, -2.0 ] },\n",
       "        \"2\": { \"location\": [ -2.0, -2.0, -2.0 ] },\n",
       "        \"3\": { \"location\": [ -2.0, -2.0, -2.0 ] },\n",
       "        \"4\": { \"location\": [ -2.0, -2.0, -2.0 ] },\n",
       "        \"5\": { \"location\": [ -2.0, -2.0, -2.0 ] },\n",
       "        \"6\": { \"location\": [ -2.0, -2.0, -2.0 ] },\n",
       "        \"7\": { \"location\": [ -2.0, -2.0, -2.0 ] },\n",
       "        \"8\": { \"location\": [ -2.0, -2.0, -2.0 ] },\n",
       "        \"9\": { \"location\": [ -2.0, -2.0, -2.0 ] },\n",
       "        \"10\": { \"location\": [ -2.0, -2.0, -2.0 ] },\n",
       "        \"11\": { \"location\": [ -2.0, -2.0, -2.0 ] },\n",
       "        \"12\": { \"location\": [ -2.0, -2.0, -2.0 ] },\n",
       "        \"13\": { \"location\": [ -2.0, -2.0, -2.0 ] },\n",
       "        \"14\": { \"location\": [ -2.0, -2.0, -2.0 ] },\n",
       "        \"15\": { \"location\": [ -2.0, -2.0, -2.0 ] },\n",
       "        \"16\": { \"location\": [ -2.0, -2.0, -2.0 ] },\n",
       "        \"17\": { \"location\": [ -2.0, -2.0, -2.0 ] },\n",
       "        \"18\": { \"location\": [ -2.0, -2.0, -2.0 ] },\n",
       "        \"19\": { \"location\": [ -2.0, -2.0, -2.0 ] },\n",
       "        \"20\": { \"location\": [ -2.0, -2.0, -2.0 ] },\n",
       "        \"21\": { \"location\": [ -2.0, -2.0, -2.0 ] },\n",
       "        \"22\": { \"location\": [ -2.0, -2.0, -2.0 ] },\n",
       "        \"23\": { \"location\": [ -2.0, -2.0, -2.0 ] },\n",
       "        \"24\": { \"location\": [ -2.0, -2.0, -2.0 ] },\n",
       "        \"25\": { \"location\": [ -2.0, -2.0, -2.0 ] },\n",
       "        \"26\": { \"location\": [ -2.0, -2.0, -2.0 ] },\n",
       "        \"27\": { \"location\": [ -2.0, -2.0, -2.0 ] },\n",
       "        \"28\": { \"location\": [ -2.0, -2.0, -2.0 ] },\n",
       "        \"29\": { \"location\": [ -2.0, -2.0, -2.0 ] },\n",
       "        \"30\": { \"location\": [ -2.0, -2.0, -2.0 ] },\n",
       "        \"31\": { \"location\": [ -2.0, -2.0, -2.0 ] },\n",
       "        \"32\": { \"location\": [ -2.0, -2.0, -2.0 ] },\n",
       "        \"33\": { \"location\": [ -2.0, -2.0, -2.0 ] },\n",
       "        \"34\": { \"location\": [ -2.0, -2.0, -2.0 ] },\n",
       "        \"35\": { \"location\": [ -2.0, -2.0, -2.0 ] },\n",
       "        \"36\": { \"location\": [ -2.0, -2.0, -2.0 ] },\n",
       "        \"37\": { \"location\": [ -2.0, -2.0, -2.0 ] },\n",
       "        \"38\": { \"location\": [ -2.0, -2.0, -2.0 ] },\n",
       "        \"39\": { \"location\": [ -2.0, -2.0, -2.0 ] },\n",
       "        \"40\": { \"location\": [ -2.0, -2.0, -2.0 ] },\n",
       "        \"41\": { \"location\": [ -2.0, -2.0, -2.0 ] },\n",
       "        \"42\": { \"location\": [ -2.0, -2.0, -2.0 ] },\n",
       "        \"43\": { \"location\": [ -2.0, -2.0, -2.0 ] },\n",
       "        \"44\": { \"location\": [ -2.0, -2.0, -2.0 ] },\n",
       "        \"45\": { \"location\": [ -2.0, -2.0, -2.0 ] },\n",
       "        \"46\": { \"location\": [ -2.0, -2.0, -2.0 ] },\n",
       "        \"47\": { \"location\": [ -2.0, -2.0, -2.0 ] },\n",
       "        \"48\": { \"location\": [ -2.0, -2.0, -2.0 ] },\n",
       "        \"49\": { \"location\": [ -2.0, -2.0, -2.0 ] },\n",
       "        \"50\": { \"location\": [ -2.0, -2.0, -2.0 ] },\n",
       "        \"51\": { \"location\": [ -2.0, -2.0, -2.0 ] },\n",
       "        \"52\": { \"location\": [ -2.0, -2.0, -2.0 ] },\n",
       "        \"53\": { \"location\": [ -2.0, -2.0, -2.0 ] },\n",
       "        \"54\": { \"location\": [ -2.0, -2.0, -2.0 ] },\n",
       "        \"55\": { \"location\": [ -2.0, -2.0, -2.0 ] },\n",
       "        \"56\": { \"location\": [ -2.0, -2.0, -2.0 ] },\n",
       "        \"57\": { \"location\": [ -2.0, -2.0, -2.0 ] },\n",
       "        \"58\": { \"location\": [ -2.0, -2.0, -2.0 ] },\n",
       "        \"59\": { \"location\": [ -2.0, -2.0, -2.0 ] },\n",
       "        \"60\": { \"location\": [ -2.0, -2.0, -2.0 ] },\n",
       "        \"61\": { \"location\": [ -2.0, -2.0, -2.0 ] },\n",
       "        \"62\": { \"location\": [ -2.0, -2.0, -2.0 ] },\n",
       "        \"63\": { \"location\": [ -2.0, -2.0, -2.0 ] },\n",
       "        \"64\": { \"location\": [ -2.0, -2.0, -2.0 ] },\n",
       "        \"65\": { \"location\": [ -2.0, -2.0, -2.0 ] },\n",
       "        \"66\": { \"location\": [ -2.0, -2.0, -2.0 ] },\n",
       "        \"67\": { \"location\": [ -2.0, -2.0, -2.0 ] },\n",
       "        \"68\": { \"location\": [ -2.0, -2.0, -2.0 ] },\n",
       "        \"69\": { \"location\": [ -2.0, -2.0, -2.0 ] },\n",
       "        \"70\": { \"location\": [ -2.0, -2.0, -2.0 ] },\n",
       "        \"71\": { \"location\": [ -2.0, -2.0, -2.0 ] },\n",
       "        \"72\": { \"location\": [ -2.0, -2.0, -2.0 ] },\n",
       "        \"73\": { \"location\": [ -2.0, -2.0, -2.0 ] },\n",
       "        \"74\": { \"location\": [ -2.0, -2.0, -2.0 ] },\n",
       "        \"75\": { \"location\": [ -2.0, -2.0, -2.0 ] },\n",
       "        \"76\": { \"location\": [ -2.0, -2.0, -2.0 ] },\n",
       "        \"77\": { \"location\": [ -2.0, -2.0, -2.0 ] },\n",
       "        \"78\": { \"location\": [ -2.0, -2.0, -2.0 ] },\n",
       "        \"79\": { \"location\": [ -2.0, -2.0, -2.0 ] },\n",
       "        \"80\": { \"location\": [ -2.0, -2.0, -2.0 ] },\n",
       "        \"81\": { \"location\": [ -2.0, -2.0, -2.0 ] },\n",
       "        \"82\": { \"location\": [ -2.0, -2.0, -2.0 ] },\n",
       "        \"83\": { \"location\": [ -1.5438204269664695, -2.0, -2.0 ] },\n",
       "        \"84\": { \"location\": [ 1.2902672070811727, -2.0, -2.0 ] },\n",
       "        \"85\": { \"location\": [ -0.2268301775535238, -0.3849268247795332, -0.32662408670334403 ] },\n",
       "        \"86\": { \"location\": [ -0.430229766748361, 2.0, 2.0 ] },\n",
       "        \"87\": { \"location\": [ 2.0, 0.10092517988854695, 2.0 ] },\n",
       "        \"88\": { \"location\": [ 2.0, 2.0, 2.0 ] },\n",
       "        \"89\": { \"location\": [ 2.0, 2.0, 2.0 ] },\n",
       "        \"90\": { \"location\": [ 2.0, 2.0, 2.0 ] },\n",
       "        \"91\": { \"location\": [ 2.0, 2.0, 2.0 ] },\n",
       "        \"92\": { \"location\": [ 2.0, 2.0, 2.0 ] },\n",
       "        \"93\": { \"location\": [ 2.0, 2.0, 2.0 ] },\n",
       "        \"94\": { \"location\": [ 2.0, 2.0, 2.0 ] },\n",
       "        \"95\": { \"location\": [ 2.0, 2.0, 2.0 ] },\n",
       "        \"96\": { \"location\": [ 2.0, 2.0, 2.0 ] },\n",
       "        \"97\": { \"location\": [ 2.0, 2.0, 2.0 ] },\n",
       "        \"98\": { \"location\": [ 2.0, 2.0, 2.0 ] },\n",
       "        \"99\": { \"location\": [ 2.0, 2.0, 2.0 ] },\n",
       "        \"100\": { \"location\": [ 2.0, 2.0, 2.0 ] },\n",
       "        \"101\": { \"location\": [ 2.0, 2.0, 2.0 ] },\n",
       "        \"102\": { \"location\": [ 2.0, 2.0, 2.0 ] },\n",
       "        \"103\": { \"location\": [ 2.0, 2.0, 2.0 ] },\n",
       "        \"104\": { \"location\": [ 2.0, 2.0, 2.0 ] },\n",
       "        \"105\": { \"location\": [ 2.0, 2.0, 2.0 ] },\n",
       "        \"106\": { \"location\": [ 2.0, 2.0, 2.0 ] },\n",
       "        \"107\": { \"location\": [ 2.0, 2.0, 2.0 ] },\n",
       "        \"108\": { \"location\": [ 2.0, 2.0, 2.0 ] },\n",
       "        \"109\": { \"location\": [ 2.0, 2.0, 2.0 ] },\n",
       "        \"110\": { \"location\": [ 2.0, 2.0, 2.0 ] },\n",
       "        \"111\": { \"location\": [ 2.0, 2.0, 2.0 ] },\n",
       "        \"112\": { \"location\": [ 2.0, 2.0, 2.0 ] },\n",
       "        \"113\": { \"location\": [ 2.0, 2.0, 2.0 ] },\n",
       "        \"114\": { \"location\": [ 2.0, 2.0, 2.0 ] },\n",
       "        \"115\": { \"location\": [ 2.0, 2.0, 2.0 ] },\n",
       "        \"116\": { \"location\": [ 2.0, 2.0, 2.0 ] },\n",
       "        \"117\": { \"location\": [ 2.0, 2.0, 2.0 ] },\n",
       "        \"118\": { \"location\": [ 2.0, 2.0, 2.0 ] },\n",
       "        \"119\": { \"location\": [ 2.0, 2.0, 2.0 ] },\n",
       "        \"120\": { \"location\": [ 2.0, 2.0, 2.0 ] },\n",
       "        \"121\": { \"location\": [ 2.0, 2.0, 2.0 ] },\n",
       "        \"122\": { \"location\": [ 2.0, 2.0, 2.0 ] },\n",
       "        \"123\": { \"location\": [ 2.0, 2.0, 2.0 ] },\n",
       "        \"124\": { \"location\": [ 2.0, 2.0, 2.0 ] },\n",
       "        \"125\": { \"location\": [ 2.0, 2.0, 2.0 ] },\n",
       "        \"126\": { \"location\": [ 2.0, 2.0, 2.0 ] },\n",
       "        \"127\": { \"location\": [ 2.0, 2.0, 2.0 ] },\n",
       "        \"128\": { \"location\": [ 2.0, 2.0, 2.0 ] },\n",
       "        \"129\": { \"location\": [ 2.0, 2.0, 2.0 ] },\n",
       "        \"130\": { \"location\": [ 2.0, 2.0, 2.0 ] },\n",
       "        \"131\": { \"location\": [ 2.0, 2.0, 2.0 ] },\n",
       "        \"132\": { \"location\": [ 2.0, 2.0, 2.0 ] },\n",
       "        \"133\": { \"location\": [ 2.0, 2.0, 2.0 ] },\n",
       "        \"134\": { \"location\": [ 2.0, 2.0, 2.0 ] },\n",
       "        \"135\": { \"location\": [ 2.0, 2.0, 2.0 ] },\n",
       "        \"136\": { \"location\": [ 2.0, 2.0, 2.0 ] },\n",
       "        \"137\": { \"location\": [ 2.0, 2.0, 2.0 ] },\n",
       "        \"138\": { \"location\": [ 2.0, 2.0, 2.0 ] },\n",
       "        \"139\": { \"location\": [ 2.0, 2.0, 2.0 ] },\n",
       "        \"140\": { \"location\": [ 2.0, 2.0, 2.0 ] },\n",
       "        \"141\": { \"location\": [ 2.0, 2.0, 2.0 ] },\n",
       "        \"142\": { \"location\": [ 2.0, 2.0, 2.0 ] },\n",
       "        \"143\": { \"location\": [ 2.0, 2.0, 2.0 ] },\n",
       "        \"144\": { \"location\": [ 2.0, 2.0, 2.0 ] },\n",
       "        \"145\": { \"location\": [ 2.0, 2.0, 2.0 ] },\n",
       "        \"146\": { \"location\": [ 2.0, 2.0, 2.0 ] },\n",
       "        \"147\": { \"location\": [ 2.0, 2.0, 2.0 ] },\n",
       "        \"148\": { \"location\": [ 2.0, 2.0, 2.0 ] },\n",
       "        \"149\": { \"location\": [ 2.0, 2.0, 2.0 ] },\n",
       "        \"150\": { \"location\": [ 2.0, 2.0, 2.0 ] },\n",
       "        \"151\": { \"location\": [ 2.0, 2.0, 2.0 ] },\n",
       "        \"152\": { \"location\": [ 2.0, 2.0, 2.0 ] },\n",
       "        \"153\": { \"location\": [ 2.0, 2.0, 2.0 ] },\n",
       "        \"154\": { \"location\": [ 2.0, 2.0, 2.0 ] },\n",
       "        \"155\": { \"location\": [ 2.0, 2.0, 2.0 ] },\n",
       "        \"156\": { \"location\": [ 2.0, 2.0, 2.0 ] },\n",
       "        \"157\": { \"location\": [ 2.0, 2.0, 2.0 ] },\n",
       "        \"158\": { \"location\": [ 2.0, 2.0, 2.0 ] },\n",
       "        \"159\": { \"location\": [ 2.0, 2.0, 2.0 ] },\n",
       "        \"160\": { \"location\": [ 2.0, 2.0, 2.0 ] },\n",
       "        \"161\": { \"location\": [ 2.0, 2.0, 2.0 ] },\n",
       "        \"162\": { \"location\": [ 2.0, 2.0, 2.0 ] },\n",
       "        \"163\": { \"location\": [ 2.0, 2.0, 2.0 ] },\n",
       "        \"164\": { \"location\": [ 2.0, 2.0, 2.0 ] },\n",
       "        \"165\": { \"location\": [ 2.0, 2.0, 2.0 ] },\n",
       "        \"166\": { \"location\": [ 2.0, 2.0, 2.0 ] },\n",
       "        \"167\": { \"location\": [ 2.0, 2.0, 2.0 ] },\n",
       "        \"168\": { \"location\": [ 2.0, 2.0, 2.0 ] },\n",
       "        \"169\": { \"location\": [ 2.0, 2.0, 2.0 ] },\n",
       "        \"170\": { \"location\": [ 2.0, 2.0, 2.0 ] }\n",
       "    }\n",
       "});\n",
       "\n",
       "               $d.resizable({\n",
       "                   aspectRatio: 800 / 600,\n",
       "                   resize: function (evt, ui) {\n",
       "                       $d.jgraph.renderer.setSize(ui.size.width,\n",
       "                                                  ui.size.height);\n",
       "                   }\n",
       "               });\n",
       "           });\n",
       "           </script>"
      ],
      "text/plain": [
       "<IPython.core.display.HTML object>"
      ]
     },
     "metadata": {},
     "output_type": "display_data"
    }
   ],
   "source": [
    "jg.draw(query_tuples, directed=False, shader=\"lambert\",\n",
    "        default_node_color=0x383294, z=200, size=(800, 600))"
   ]
  },
  {
   "cell_type": "markdown",
   "metadata": {},
   "source": [
    " Correlations of scores"
   ]
  },
  {
   "cell_type": "code",
   "execution_count": 26,
   "metadata": {},
   "outputs": [],
   "source": [
    "merge1 = pd.merge(centrality, closeness, on='nodes', how='inner')\n",
    "merge2 = pd.merge(merge1, betweenness, on='nodes', how='inner')\n",
    "merge = pd.merge(merge2, pagerank, on='nodes', how='inner')\n",
    "merge = merge.sort_values('nodes').reset_index().drop(['index','nodes'], axis=1)\n",
    "merge.columns = ['centrality','closeness','betweenness','pagerank']"
   ]
  },
  {
   "cell_type": "code",
   "execution_count": 53,
   "metadata": {},
   "outputs": [
    {
     "data": {
      "text/html": [
       "<div>\n",
       "<style scoped>\n",
       "    .dataframe tbody tr th:only-of-type {\n",
       "        vertical-align: middle;\n",
       "    }\n",
       "\n",
       "    .dataframe tbody tr th {\n",
       "        vertical-align: top;\n",
       "    }\n",
       "\n",
       "    .dataframe thead th {\n",
       "        text-align: right;\n",
       "    }\n",
       "</style>\n",
       "<table border=\"1\" class=\"dataframe\">\n",
       "  <thead>\n",
       "    <tr style=\"text-align: right;\">\n",
       "      <th></th>\n",
       "      <th>centrality</th>\n",
       "      <th>closeness</th>\n",
       "      <th>betweenness</th>\n",
       "      <th>pagerank</th>\n",
       "    </tr>\n",
       "  </thead>\n",
       "  <tbody>\n",
       "    <tr>\n",
       "      <th>0</th>\n",
       "      <td>0.047059</td>\n",
       "      <td>0.226064</td>\n",
       "      <td>0.036005</td>\n",
       "      <td>0.012566</td>\n",
       "    </tr>\n",
       "    <tr>\n",
       "      <th>1</th>\n",
       "      <td>0.041176</td>\n",
       "      <td>0.234483</td>\n",
       "      <td>0.125816</td>\n",
       "      <td>0.012714</td>\n",
       "    </tr>\n",
       "    <tr>\n",
       "      <th>2</th>\n",
       "      <td>0.017647</td>\n",
       "      <td>0.185387</td>\n",
       "      <td>0.000050</td>\n",
       "      <td>0.004768</td>\n",
       "    </tr>\n",
       "    <tr>\n",
       "      <th>3</th>\n",
       "      <td>0.017647</td>\n",
       "      <td>0.185387</td>\n",
       "      <td>0.000050</td>\n",
       "      <td>0.004768</td>\n",
       "    </tr>\n",
       "    <tr>\n",
       "      <th>4</th>\n",
       "      <td>0.029412</td>\n",
       "      <td>0.250737</td>\n",
       "      <td>0.029198</td>\n",
       "      <td>0.007936</td>\n",
       "    </tr>\n",
       "  </tbody>\n",
       "</table>\n",
       "</div>"
      ],
      "text/plain": [
       "   centrality  closeness  betweenness  pagerank\n",
       "0    0.047059   0.226064     0.036005  0.012566\n",
       "1    0.041176   0.234483     0.125816  0.012714\n",
       "2    0.017647   0.185387     0.000050  0.004768\n",
       "3    0.017647   0.185387     0.000050  0.004768\n",
       "4    0.029412   0.250737     0.029198  0.007936"
      ]
     },
     "execution_count": 53,
     "metadata": {},
     "output_type": "execute_result"
    }
   ],
   "source": [
    "merge.head()"
   ]
  },
  {
   "cell_type": "code",
   "execution_count": 27,
   "metadata": {},
   "outputs": [
    {
     "data": {
      "text/plain": [
       "<seaborn.axisgrid.PairGrid at 0x127e06550>"
      ]
     },
     "execution_count": 27,
     "metadata": {},
     "output_type": "execute_result"
    },
    {
     "data": {
      "image/png": "[encoded data removed]",
      "text/plain": [
       "<Figure size 720x720 with 20 Axes>"
      ]
     },
     "metadata": {
      "needs_background": "light"
     },
     "output_type": "display_data"
    }
   ],
   "source": [
    "sns.pairplot(merge)"
   ]
  }
 ],
 "metadata": {
  "kernelspec": {
   "display_name": "Python 3",
   "language": "python",
   "name": "python3"
  },
  "language_info": {
   "codemirror_mode": {
    "name": "ipython",
    "version": 3
   },
   "file_extension": ".py",
   "mimetype": "text/x-python",
   "name": "python",
   "nbconvert_exporter": "python",
   "pygments_lexer": "ipython3",
   "version": "3.7.3"
  }
 },
 "nbformat": 4,
 "nbformat_minor": 2
}
